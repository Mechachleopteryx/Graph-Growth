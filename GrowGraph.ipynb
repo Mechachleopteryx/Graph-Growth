{
 "metadata": {
  "name": ""
 },
 "nbformat": 3,
 "nbformat_minor": 0,
 "worksheets": [
  {
   "cells": [
    {
     "cell_type": "code",
     "collapsed": false,
     "input": [
      "import sys\n",
      "import scipy\n",
      "from scipy import *\n",
      "import community #module I built from networkX stuff.\n",
      "from networkx import chordal_alg\n",
      "import random\n",
      "import networkx as nx\n",
      "import numpy as np\n",
      "import os\n",
      "import pandas as pd\n",
      "import matplotlib.pylab as plt"
     ],
     "language": "python",
     "metadata": {},
     "outputs": [],
     "prompt_number": 22
    },
    {
     "cell_type": "code",
     "collapsed": false,
     "input": [
      "from py2neo import neo4j, rel, node\n",
      "os.system('neo4j stop')"
     ],
     "language": "python",
     "metadata": {},
     "outputs": [
      {
       "metadata": {},
       "output_type": "pyout",
       "prompt_number": 2,
       "text": [
        "0"
       ]
      }
     ],
     "prompt_number": 2
    },
    {
     "cell_type": "code",
     "collapsed": false,
     "input": [
      "os.system('neo4j start') # get the graph database server going.\n",
      "# if you want to delete the database\n",
      "# cd /usr/local/Cellar/neo4j/1.9.4/libexec/data\n",
      "# os.command(rm -R graph_db)"
     ],
     "language": "python",
     "metadata": {},
     "outputs": [
      {
       "metadata": {},
       "output_type": "pyout",
       "prompt_number": 3,
       "text": [
        "0"
       ]
      }
     ],
     "prompt_number": 3
    },
    {
     "cell_type": "code",
     "collapsed": false,
     "input": [
      "graph_db = neo4j.GraphDatabaseService()"
     ],
     "language": "python",
     "metadata": {},
     "outputs": [],
     "prompt_number": 4
    },
    {
     "cell_type": "code",
     "collapsed": false,
     "input": [
      "print graph_db.neo4j_version"
     ],
     "language": "python",
     "metadata": {},
     "outputs": [
      {
       "output_type": "stream",
       "stream": "stdout",
       "text": [
        "(1, 9, 4, u'')\n"
       ]
      }
     ],
     "prompt_number": 5
    },
    {
     "cell_type": "code",
     "collapsed": false,
     "input": [
      "#oct2py and Octave stuff\n",
      "from oct2py import Oct2Py #this is not built in.\n",
      "oc = Oct2Py()\n",
      "from oct2py import octave #you need to have Octave installed on your computer. It's free!"
     ],
     "language": "python",
     "metadata": {},
     "outputs": [],
     "prompt_number": 6
    },
    {
     "cell_type": "code",
     "collapsed": false,
     "input": [
      "graph_db.clear()\n",
      "import csv\n",
      "csvfile = open('edgeFileWords.csv')\n",
      "reader = csv.reader(csvfile,delimiter=',')\n",
      "nodes = {} # keep track of nodes already in graph_db.\\n\",\n",
      "\n",
      "def get_or_create_node(graph_db, name):\n",
      "    if name not in nodes:\n",
      "        nodes[name], = graph_db.create(node(name=name)) #make the node if it doesn't exist \\n\",\n",
      "    return nodes[name] #return the node\\n\",\n",
      "\n",
      "for row in reader:\n",
      "    parent = get_or_create_node(graph_db, row[0])\n",
      "    child = get_or_create_node(graph_db, row[1])\n",
      "    parent_child, = graph_db.create(rel(parent, \"--\", child))"
     ],
     "language": "python",
     "metadata": {},
     "outputs": [],
     "prompt_number": 7
    },
    {
     "cell_type": "code",
     "collapsed": false,
     "input": [
      "import pickle\n",
      "pickle.dump(nodes, open(\"nodes.p\", \"wb\"))"
     ],
     "language": "python",
     "metadata": {},
     "outputs": [],
     "prompt_number": 8
    },
    {
     "cell_type": "code",
     "collapsed": false,
     "input": [
      "def get_strname(NODE):\n",
      "      NODE = NODE.get_properties()\n",
      "      NODE = NODE.get('name')\n",
      "      NODE = NODE.encode()\n",
      "      return str(NODE)"
     ],
     "language": "python",
     "metadata": {},
     "outputs": [],
     "prompt_number": 9
    },
    {
     "cell_type": "code",
     "collapsed": false,
     "input": [
      "#this picks nodes at random, without constraint that new node is connected to a node already in graph \n",
      "# call this Growth_non_connected\n",
      "import random\n",
      "graph = nx.Graph()\n",
      "nodegrowth = 0\n",
      "edgegrowth = 0\n",
      "growthfactor = 300\n",
      "while nodegrowth < growthfactor:\n",
      "    newnode = random.choice(nodes.keys()) #randomly get a node to add from dictionary\n",
      "    newnode = nodes[newnode] #pull the graph query version of it\n",
      "    rels = list(graph_db.match(start_node=newnode)) #query graph for edges to and from that node\n",
      "    for edge in rels:\n",
      "        newnodename = edge.start_node.get_properties()\n",
      "        newnodename = newnodename.get('name')\n",
      "        newnodename = newnodename.encode()\n",
      "        endnodename = edge.end_node.get_properties()\n",
      "        endnodename = endnodename.get('name')\n",
      "        endnodename = endnodename.encode()\n",
      "        if newnodename not in graph: #check to see if new node is in graph\n",
      "            graph.add_node(newnodename) # add if not\n",
      "            nodegrowth = nodegrowth + 1\n",
      "        if endnodename in graph: #check to see if end node is in graph\n",
      "            graph.add_edge(newnodename, endnodename) #add it if it is\n",
      "            edgegrowth = edgegrowth + 1\n",
      "    rels = list(graph_db.match(end_node=newnode)) #query graph for edges to and from that node\n",
      "    for edge in rels:\n",
      "        newnodename = edge.end_node.get_properties()\n",
      "        newnodename = newnodename.get('name')\n",
      "        newnodename = newnodename.encode()\n",
      "        startnodename = edge.start_node.get_properties()\n",
      "        startnodename = startnodename.get('name')\n",
      "        startnodename = startnodename.encode()\n",
      "        if newnodename not in graph: #check to see if new node is in graph\n",
      "            graph.add_node(newnodename) # add if not\n",
      "            nodegrowth = nodegrowth + 1\n",
      "        if startnodename in graph: #check to see if end node is in graph\n",
      "            graph.add_edge(startnodename, newnodename) #add it if it is\n",
      "            edgegrowth = edgegrowth + 1"
     ],
     "language": "python",
     "metadata": {},
     "outputs": []
    },
    {
     "cell_type": "code",
     "collapsed": false,
     "input": [
      "#this picks nodes at random, with the constraint that new node is connected to a node already in graph\\n\",\n",
      "#Growth_ensure_fully_connected\\n\",\n",
      "import random\n",
      "from time import time\n",
      "data = []\n",
      "sparemeasure = True\n",
      "directed = True\n",
      "num_measurements = 10\n",
      "sparse = True\n",
      "randomgrowth = False\n",
      "wholegrowth = False\n",
      "growthfactor = 2500\n",
      "existing_nodes = []\n",
      "if directed:\n",
      "    graph = nx.DiGraph()\n",
      "else:\n",
      "    graph = nx.graph()\n",
      "if sparse == True:\n",
      "    sparsemeasurements = [3,4,5,6,7,8,9,5000]\n",
      "    measurements = np.logspace(1, 3.8, 25)\n",
      "    for x in measurements:\n",
      "        sparsemeasurements.append(int(x))\n",
      "else:\n",
      "    sparsemeasurements = range(4,growthfactor)\n",
      "nodegrowth = 0\n",
      "edgegrowth = 0\n",
      "if wholegrowth == True:\n",
      "    growthfactor = len(nodes) + 1\n",
      "else: \n",
      "    growthfactor = growthfactor + 1\n",
      "\n",
      "    \n",
      "initial_node = random.choice(nodes.keys()) #randomly get a node to add from dictionary\n",
      "while nodegrowth < growthfactor:\n",
      "    try:\n",
      "        possiblenodes = graph.nodes() # get all nodes in graph.\n",
      "        try:\n",
      "            fromnode = random.choice(possiblenodes) #pick random node in graph to grow from.\n",
      "        except: #this is because you can't do random from one node at the start.\n",
      "            fromnode = initial_node\n",
      "        fromnode = nodes[fromnode] #get DB version of the node.\n",
      "        #get all relatinpships in graph DB for that node\n",
      "        new_node_rels = list(graph_db.match(end_node = fromnode, bidirectional=True))\n",
      "        new_rel = random.choice(new_node_rels)\n",
      "        # is the new node a part or child of the node we are growing from?\n",
      "        if new_rel.end_node == fromnode:\n",
      "            new_node = new_rel.start_node\n",
      "        if new_rel.start_node == fromnode:\n",
      "            new_node = new_rel.end_node\n",
      "        assert new_node != fromnode\n",
      "        newnode = new_node #different than above because it's already in graph db format\n",
      "        catch = get_strname(newnode)\n",
      "        if newnode not in existing_nodes:\n",
      "            existing_nodes.append(newnode)\n",
      "            rels = list(graph_db.match(start_node=newnode)) #query graph for edges to and from that node\n",
      "            for edge in rels:\n",
      "                newnodename = edge.start_node.get_properties()\n",
      "                newnodename = newnodename.get('name')\n",
      "                newnodename = newnodename.encode()\n",
      "                endnodename = edge.end_node.get_properties()\n",
      "                endnodename = endnodename.get('name')\n",
      "                endnodename = endnodename.encode()\n",
      "                if newnodename not in graph: #check to see if new node is in graph\n",
      "                    graph.add_node(newnodename) # add if not\n",
      "                    nodegrowth = nodegrowth + 1\n",
      "                if endnodename in graph: #check to see if end node is in graph\n",
      "                    graph.add_edge(newnodename, endnodename) #add it if it is\n",
      "            rels = list(graph_db.match(end_node=newnode)) #query graph for edges to and from that node\n",
      "            for edge in rels:\n",
      "                newnodename = edge.end_node.get_properties()\n",
      "                newnodename = newnodename.get('name')\n",
      "                newnodename = newnodename.encode()\n",
      "                startnodename = edge.start_node.get_properties()\n",
      "                startnodename = startnodename.get('name')\n",
      "                startnodename = startnodename.encode()\n",
      "                if newnodename not in graph: #check to see if new node is in graph\n",
      "                    graph.add_node(newnodename) # add if not\n",
      "                    nodegrowth = nodegrowth + 1\n",
      "                if startnodename in graph: #check to see if end node is in graph\n",
      "                    graph.add_edge(startnodename, newnodename) #add it if it is\n",
      "            if nodegrowth in sparsemeasurements:\n",
      "                start_time = time()\n",
      "                if randomgrowth == True:\n",
      "        #             np.random.shuffle(matrixgraph)\n",
      "                    matrixgraph = nx.fast_gnp_random_graph(nodegrowth,.9)\n",
      "                    matrixgraph = nx.adjacency_matrix(graph)\n",
      "                    NXgraph = nx.Graph(matrixgraph) #make it back into a networkx graph\n",
      "                    partition = community.best_partition(NXgraph) #find the partition with maximal modularity\n",
      "                    modularity = community.modularity(partition,NXgraph) #calculate modularity with that partition\n",
      "                else:\n",
      "                    NXgraph = nx.Graph(graph) #make it into a networkx graph\n",
      "                    partition = community.best_partition(NXgraph) #find the partition with maximal modularity\n",
      "                    modularity = community.modularity(partition,NXgraph) #calculate modularity with that partition\n",
      "                    matrixgraph = nx.adjacency_matrix(graph)\n",
      "                ismoral = False\n",
      "                while ismoral == False: #sometimes oct2py takes too long to return I think\n",
      "                    try:\n",
      "                        moral = octave.moralize(matrixgraph)\n",
      "                        ismoral = True\n",
      "                    except:\n",
      "                        ismoral = False\n",
      "                order = range(len(matrixgraph)+1)\n",
      "                order = order[1:]\n",
      "                istriangulated = False\n",
      "                while istriangulated == False: #sometimes oct2py takes too long to return I think\n",
      "                    try:\n",
      "                        triangulated = octave.triangulate(moral,order)\n",
      "                        istriangulated = True\n",
      "                    except:\n",
      "                        istriangulated = False\n",
      "                triangulated2 = nx.from_numpy_matrix(triangulated)\n",
      "                cliques = nx.find_cliques_recursive(triangulated2)\n",
      "                numcliques = len(cliques)\n",
      "                cliquesizes = []\n",
      "                for line in cliques:\n",
      "                    size = len(line)\n",
      "                    cliquesizes.append(size)\n",
      "                maxclique = max(cliquesizes)\n",
      "                avgclique = np.mean(cliquesizes)\n",
      "                end_time = time()\n",
      "                run_time = end_time - start_time\n",
      "                data.append([nodegrowth, len(graph.edges()), maxclique,avgclique,modularity,run_time])\n",
      "                sparsemeasurements.remove(nodegrowth) #so we don't calculate clique size more than once!\n",
      "                print 'Growing graph with ' + str(nodegrowth) + ' nodes, ' + str(modularity) + ' modularity, max clique of ' + str(maxclique) + ', ' + str(len(graph.edges())) + ' edges.'\n",
      "    except:\n",
      "        print 'error!'"
     ],
     "language": "python",
     "metadata": {},
     "outputs": [
      {
       "output_type": "stream",
       "stream": "stdout",
       "text": [
        "Growing graph with 3 nodes, 0.0 modularity, max clique of 2, 2 edges.\n",
        "Growing graph with 4 nodes, 0.166666666667 modularity, max clique of 3, 3 edges."
       ]
      },
      {
       "output_type": "stream",
       "stream": "stdout",
       "text": [
        "\n",
        "Growing graph with 5 nodes, 0.21875 modularity, max clique of 3, 5 edges."
       ]
      },
      {
       "output_type": "stream",
       "stream": "stdout",
       "text": [
        "\n",
        "Growing graph with 6 nodes, 0.319444444444 modularity, max clique of 4, 8 edges."
       ]
      },
      {
       "output_type": "stream",
       "stream": "stdout",
       "text": [
        "\n",
        "Growing graph with 7 nodes, 0.316326530612 modularity, max clique of 4, 9 edges."
       ]
      },
      {
       "output_type": "stream",
       "stream": "stdout",
       "text": [
        "\n",
        "Growing graph with 8 nodes, 0.29012345679 modularity, max clique of 5, 11 edges."
       ]
      },
      {
       "output_type": "stream",
       "stream": "stdout",
       "text": [
        "\n",
        "Growing graph with 9 nodes, 0.355 modularity, max clique of 5, 13 edges."
       ]
      },
      {
       "output_type": "stream",
       "stream": "stdout",
       "text": [
        "\n",
        "Growing graph with 10 nodes, 0.384297520661 modularity, max clique of 5, 14 edges."
       ]
      },
      {
       "output_type": "stream",
       "stream": "stdout",
       "text": [
        "\n",
        "Growing graph with 13 nodes, 0.477777777778 modularity, max clique of 6, 19 edges."
       ]
      },
      {
       "output_type": "stream",
       "stream": "stdout",
       "text": [
        "\n",
        "Growing graph with 17 nodes, 0.55 modularity, max clique of 6, 26 edges."
       ]
      },
      {
       "output_type": "stream",
       "stream": "stdout",
       "text": [
        "\n",
        "Growing graph with 22 nodes, 0.584319526627 modularity, max clique of 9, 33 edges."
       ]
      },
      {
       "output_type": "stream",
       "stream": "stdout",
       "text": [
        "\n",
        "Growing graph with 29 nodes, 0.627218934911 modularity, max clique of 9, 49 edges."
       ]
      },
      {
       "output_type": "stream",
       "stream": "stdout",
       "text": [
        "\n",
        "Growing graph with 38 nodes, 0.633884297521 modularity, max clique of 12, 68 edges."
       ]
      },
      {
       "output_type": "stream",
       "stream": "stdout",
       "text": [
        "\n",
        "Growing graph with 50 nodes, 0.656558185404 modularity, max clique of 20, 94 edges."
       ]
      },
      {
       "output_type": "stream",
       "stream": "stdout",
       "text": [
        "\n",
        "Growing graph with 65 nodes, 0.609282104637 modularity, max clique of 26, 139 edges."
       ]
      },
      {
       "output_type": "stream",
       "stream": "stdout",
       "text": [
        "\n",
        "Growing graph with 85 nodes, 0.593341017252 modularity, max clique of 35, 196 edges."
       ]
      },
      {
       "output_type": "stream",
       "stream": "stdout",
       "text": [
        "\n",
        "Growing graph with 112 nodes, 0.603993941327 modularity, max clique of 55, 265 edges."
       ]
      },
      {
       "output_type": "stream",
       "stream": "stdout",
       "text": [
        "\n",
        "Growing graph with 146 nodes, 0.626030358993 modularity, max clique of 70, 355 edges."
       ]
      },
      {
       "output_type": "stream",
       "stream": "stdout",
       "text": [
        "\n",
        "Growing graph with 192 nodes, 0.613266666667 modularity, max clique of 93, 537 edges."
       ]
      }
     ],
     "prompt_number": "*"
    },
    {
     "cell_type": "code",
     "collapsed": false,
     "input": [
      "df = pd.DataFrame(data, columns= ('nodegrowth','edgegrowth', 'maxclique','avgclique','modularity','run_time'))"
     ],
     "language": "python",
     "metadata": {},
     "outputs": [],
     "prompt_number": 29
    },
    {
     "cell_type": "code",
     "collapsed": false,
     "input": [
      "df.head(30)"
     ],
     "language": "python",
     "metadata": {},
     "outputs": [
      {
       "html": [
        "<div style=\"max-height:1000px;max-width:1500px;overflow:auto;\">\n",
        "<table border=\"1\" class=\"dataframe\">\n",
        "  <thead>\n",
        "    <tr style=\"text-align: right;\">\n",
        "      <th></th>\n",
        "      <th>nodegrowth</th>\n",
        "      <th>edgegrowth</th>\n",
        "      <th>maxclique</th>\n",
        "      <th>avgclique</th>\n",
        "      <th>modularity</th>\n",
        "      <th>run_time</th>\n",
        "    </tr>\n",
        "  </thead>\n",
        "  <tbody>\n",
        "    <tr>\n",
        "      <th>0 </th>\n",
        "      <td>  3</td>\n",
        "      <td>   3</td>\n",
        "      <td>  2</td>\n",
        "      <td>  2.000000</td>\n",
        "      <td> 0.000000</td>\n",
        "      <td> 0.008721</td>\n",
        "    </tr>\n",
        "    <tr>\n",
        "      <th>1 </th>\n",
        "      <td>  4</td>\n",
        "      <td>   4</td>\n",
        "      <td>  2</td>\n",
        "      <td>  2.000000</td>\n",
        "      <td> 0.166667</td>\n",
        "      <td> 0.009011</td>\n",
        "    </tr>\n",
        "    <tr>\n",
        "      <th>2 </th>\n",
        "      <td>  5</td>\n",
        "      <td>   7</td>\n",
        "      <td>  3</td>\n",
        "      <td>  2.666667</td>\n",
        "      <td> 0.111111</td>\n",
        "      <td> 0.009029</td>\n",
        "    </tr>\n",
        "    <tr>\n",
        "      <th>3 </th>\n",
        "      <td>  6</td>\n",
        "      <td>   9</td>\n",
        "      <td>  4</td>\n",
        "      <td>  3.666667</td>\n",
        "      <td> 0.125000</td>\n",
        "      <td> 0.010829</td>\n",
        "    </tr>\n",
        "    <tr>\n",
        "      <th>4 </th>\n",
        "      <td>  7</td>\n",
        "      <td>  13</td>\n",
        "      <td>  5</td>\n",
        "      <td>  4.333333</td>\n",
        "      <td> 0.078512</td>\n",
        "      <td> 0.012983</td>\n",
        "    </tr>\n",
        "    <tr>\n",
        "      <th>5 </th>\n",
        "      <td>  8</td>\n",
        "      <td>  15</td>\n",
        "      <td>  5</td>\n",
        "      <td>  4.500000</td>\n",
        "      <td> 0.156250</td>\n",
        "      <td> 0.014407</td>\n",
        "    </tr>\n",
        "    <tr>\n",
        "      <th>6 </th>\n",
        "      <td>  9</td>\n",
        "      <td>  16</td>\n",
        "      <td>  5</td>\n",
        "      <td>  4.000000</td>\n",
        "      <td> 0.156805</td>\n",
        "      <td> 0.016326</td>\n",
        "    </tr>\n",
        "    <tr>\n",
        "      <th>7 </th>\n",
        "      <td> 10</td>\n",
        "      <td>  19</td>\n",
        "      <td>  5</td>\n",
        "      <td>  4.200000</td>\n",
        "      <td> 0.193333</td>\n",
        "      <td> 0.015906</td>\n",
        "    </tr>\n",
        "    <tr>\n",
        "      <th>8 </th>\n",
        "      <td> 13</td>\n",
        "      <td>  24</td>\n",
        "      <td>  7</td>\n",
        "      <td>  4.666667</td>\n",
        "      <td> 0.325485</td>\n",
        "      <td> 0.020672</td>\n",
        "    </tr>\n",
        "    <tr>\n",
        "      <th>9 </th>\n",
        "      <td> 17</td>\n",
        "      <td>  31</td>\n",
        "      <td>  9</td>\n",
        "      <td>  5.285714</td>\n",
        "      <td> 0.434400</td>\n",
        "      <td> 0.026005</td>\n",
        "    </tr>\n",
        "    <tr>\n",
        "      <th>10</th>\n",
        "      <td> 22</td>\n",
        "      <td>  43</td>\n",
        "      <td> 11</td>\n",
        "      <td>  6.600000</td>\n",
        "      <td> 0.489899</td>\n",
        "      <td> 0.041621</td>\n",
        "    </tr>\n",
        "    <tr>\n",
        "      <th>11</th>\n",
        "      <td> 29</td>\n",
        "      <td>  59</td>\n",
        "      <td> 13</td>\n",
        "      <td>  6.769231</td>\n",
        "      <td> 0.527654</td>\n",
        "      <td> 0.068590</td>\n",
        "    </tr>\n",
        "    <tr>\n",
        "      <th>12</th>\n",
        "      <td> 38</td>\n",
        "      <td>  96</td>\n",
        "      <td> 16</td>\n",
        "      <td>  8.000000</td>\n",
        "      <td> 0.476887</td>\n",
        "      <td> 0.087769</td>\n",
        "    </tr>\n",
        "    <tr>\n",
        "      <th>13</th>\n",
        "      <td> 50</td>\n",
        "      <td> 130</td>\n",
        "      <td> 26</td>\n",
        "      <td> 11.200000</td>\n",
        "      <td> 0.483646</td>\n",
        "      <td> 0.135085</td>\n",
        "    </tr>\n",
        "    <tr>\n",
        "      <th>14</th>\n",
        "      <td> 65</td>\n",
        "      <td> 180</td>\n",
        "      <td> 34</td>\n",
        "      <td> 14.578947</td>\n",
        "      <td> 0.493769</td>\n",
        "      <td> 0.219212</td>\n",
        "    </tr>\n",
        "    <tr>\n",
        "      <th>15</th>\n",
        "      <td> 85</td>\n",
        "      <td> 233</td>\n",
        "      <td> 43</td>\n",
        "      <td> 18.888889</td>\n",
        "      <td> 0.498485</td>\n",
        "      <td> 0.376849</td>\n",
        "    </tr>\n",
        "  </tbody>\n",
        "</table>\n",
        "</div>"
       ],
       "metadata": {},
       "output_type": "pyout",
       "prompt_number": 30,
       "text": [
        "    nodegrowth  edgegrowth  maxclique  avgclique  modularity  run_time\n",
        "0            3           3          2   2.000000    0.000000  0.008721\n",
        "1            4           4          2   2.000000    0.166667  0.009011\n",
        "2            5           7          3   2.666667    0.111111  0.009029\n",
        "3            6           9          4   3.666667    0.125000  0.010829\n",
        "4            7          13          5   4.333333    0.078512  0.012983\n",
        "5            8          15          5   4.500000    0.156250  0.014407\n",
        "6            9          16          5   4.000000    0.156805  0.016326\n",
        "7           10          19          5   4.200000    0.193333  0.015906\n",
        "8           13          24          7   4.666667    0.325485  0.020672\n",
        "9           17          31          9   5.285714    0.434400  0.026005\n",
        "10          22          43         11   6.600000    0.489899  0.041621\n",
        "11          29          59         13   6.769231    0.527654  0.068590\n",
        "12          38          96         16   8.000000    0.476887  0.087769\n",
        "13          50         130         26  11.200000    0.483646  0.135085\n",
        "14          65         180         34  14.578947    0.493769  0.219212\n",
        "15          85         233         43  18.888889    0.498485  0.376849"
       ]
      }
     ],
     "prompt_number": 30
    },
    {
     "cell_type": "code",
     "collapsed": false,
     "input": [
      "x1 = df['maxclique']\n",
      "# x2 = dfran['run_time']\n",
      "x3 = df['modularity']\n",
      "# x4 = df['modularity']\n",
      "y = df['nodegrowth']\n",
      "# y2 = df['nodegrowth']\n",
      "fig = plt.figure(figsize=(24,16))\n",
      "ax = fig.add_subplot(1,1,1)\n",
      "ax2 = ax.twinx()\n",
      "line1, = ax.plot( y, x1, label = 'Random Largest Clique')\n",
      "# line2, = ax.plot(y, x2, label = 'Computation Time')\n",
      "line3, = ax2.plot(y, x3, label = 'Random Modularity', color = 'red')\n",
      "# line4, = ax2.plot(y2, x4, label = 'Real Modularity', color ='purple')\n",
      "ax.set_xlabel('Nodes in Graph',fontsize=20)\n",
      "ax.set_ylabel('Clique Size',fontsize=20)\n",
      "ax2.set_ylabel('Modularity', fontsize=20)\n",
      "plt.suptitle('Random Graph Growth', fontsize=30)\n",
      "plt.legend((line1,line3),('Largest Clique', 'Modularity'), loc='upper center', frameon=False, fontsize=20)\n",
      "plt.show()"
     ],
     "language": "python",
     "metadata": {},
     "outputs": [],
     "prompt_number": 31
    },
    {
     "cell_type": "code",
     "collapsed": false,
     "input": [],
     "language": "python",
     "metadata": {},
     "outputs": [],
     "prompt_number": 24
    },
    {
     "cell_type": "code",
     "collapsed": false,
     "input": [],
     "language": "python",
     "metadata": {},
     "outputs": [],
     "prompt_number": 31
    },
    {
     "cell_type": "code",
     "collapsed": false,
     "input": [],
     "language": "python",
     "metadata": {},
     "outputs": []
    }
   ],
   "metadata": {}
  }
 ]
}