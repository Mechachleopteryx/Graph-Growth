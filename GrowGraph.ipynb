{
 "metadata": {
  "name": ""
 },
 "nbformat": 3,
 "nbformat_minor": 0,
 "worksheets": [
  {
   "cells": [
    {
     "cell_type": "code",
     "collapsed": false,
     "input": [
      "import sys\n",
      "import scipy\n",
      "from scipy import *\n",
      "import community #module I built from networkX stuff.\n",
      "from networkx import chordal_alg\n",
      "import random\n",
      "import networkx as nx\n",
      "import numpy as np\n",
      "import os\n",
      "import pandas as pd\n",
      "import matplotlib.pylab as plt"
     ],
     "language": "python",
     "metadata": {},
     "outputs": [
      {
       "output_type": "stream",
       "stream": "stderr",
       "text": [
        "//anaconda/lib/python2.7/site-packages/pytz/__init__.py:35: UserWarning: Module argparse was already imported from //anaconda/python.app/Contents/lib/python2.7/argparse.pyc, but /anaconda/lib/python2.7/site-packages is being added to sys.path\n",
        "  from pkg_resources import resource_stream\n"
       ]
      }
     ],
     "prompt_number": 1
    },
    {
     "cell_type": "code",
     "collapsed": false,
     "input": [
      "from py2neo import neo4j, rel, node\n",
      "os.system('neo4j stop')"
     ],
     "language": "python",
     "metadata": {},
     "outputs": [
      {
       "metadata": {},
       "output_type": "pyout",
       "prompt_number": 2,
       "text": [
        "0"
       ]
      }
     ],
     "prompt_number": 2
    },
    {
     "cell_type": "code",
     "collapsed": false,
     "input": [
      "os.system('neo4j start') # get the graph database server going.\n",
      "# if you want to delete the database\n",
      "# cd /usr/local/Cellar/neo4j/1.9.4/libexec/data\n",
      "# os.command(rm -R graph_db)"
     ],
     "language": "python",
     "metadata": {},
     "outputs": [
      {
       "metadata": {},
       "output_type": "pyout",
       "prompt_number": 3,
       "text": [
        "0"
       ]
      }
     ],
     "prompt_number": 3
    },
    {
     "cell_type": "code",
     "collapsed": false,
     "input": [
      "graph_db = neo4j.GraphDatabaseService()"
     ],
     "language": "python",
     "metadata": {},
     "outputs": [],
     "prompt_number": 5
    },
    {
     "cell_type": "code",
     "collapsed": false,
     "input": [
      "print graph_db.neo4j_version"
     ],
     "language": "python",
     "metadata": {},
     "outputs": [
      {
       "output_type": "stream",
       "stream": "stdout",
       "text": [
        "(1, 9, 4, u'')\n"
       ]
      }
     ],
     "prompt_number": 6
    },
    {
     "cell_type": "code",
     "collapsed": false,
     "input": [
      "#oct2py and Octave stuff\n",
      "from oct2py import Oct2Py #this is not built in.\n",
      "oc = Oct2Py()\n",
      "from oct2py import octave #you need to have Octave installed on your computer. It's free!"
     ],
     "language": "python",
     "metadata": {},
     "outputs": [],
     "prompt_number": 7
    },
    {
     "cell_type": "code",
     "collapsed": false,
     "input": [
      "graph_db.clear()\n",
      "import csv\n",
      "csvfile = open('edgeFileWords.csv')\n",
      "reader = csv.reader(csvfile,delimiter=',')\n",
      "nodes = {} # keep track of nodes already in graph_db.\\n\",\n",
      "\n",
      "def get_or_create_node(graph_db, name):\n",
      "    if name not in nodes:\n",
      "        nodes[name], = graph_db.create(node(name=name)) #make the node if it doesn't exist \\n\",\n",
      "    return nodes[name] #return the node\\n\",\n",
      "\n",
      "for row in reader:\n",
      "    parent = get_or_create_node(graph_db, row[0])\n",
      "    child = get_or_create_node(graph_db, row[1])\n",
      "    parent_child, = graph_db.create(rel(parent, \"--\", child))"
     ],
     "language": "python",
     "metadata": {},
     "outputs": [],
     "prompt_number": 7
    },
    {
     "cell_type": "code",
     "collapsed": false,
     "input": [
      "import pickle\n",
      "pickle.dump(nodes, open(\"nodes.p\", \"wb\"))"
     ],
     "language": "python",
     "metadata": {},
     "outputs": [],
     "prompt_number": 8
    },
    {
     "cell_type": "code",
     "collapsed": false,
     "input": [
      "import pickle\n",
      "nodes = open('nodes.p','r')\n",
      "nodes = pickle.load(nodes)"
     ],
     "language": "python",
     "metadata": {},
     "outputs": [],
     "prompt_number": 8
    },
    {
     "cell_type": "code",
     "collapsed": false,
     "input": [
      "def get_strname(NODE):\n",
      "      NODE = NODE.get_properties()\n",
      "      NODE = NODE.get('name')\n",
      "      NODE = NODE.encode()\n",
      "      return str(NODE)"
     ],
     "language": "python",
     "metadata": {},
     "outputs": [],
     "prompt_number": 9
    },
    {
     "cell_type": "code",
     "collapsed": false,
     "input": [
      "#this picks nodes at random, without constraint that new node is connected to a node already in graph \n",
      "# call this Growth_non_connected\n",
      "import random\n",
      "graph = nx.Graph()\n",
      "nodegrowth = 0\n",
      "edgegrowth = 0\n",
      "growthfactor = 300\n",
      "while nodegrowth < growthfactor:\n",
      "    newnode = random.choice(nodes.keys()) #randomly get a node to add from dictionary\n",
      "    newnode = nodes[newnode] #pull the graph query version of it\n",
      "    rels = list(graph_db.match(start_node=newnode)) #query graph for edges to and from that node\n",
      "    for edge in rels:\n",
      "        newnodename = edge.start_node.get_properties()\n",
      "        newnodename = newnodename.get('name')\n",
      "        newnodename = newnodename.encode()\n",
      "        endnodename = edge.end_node.get_properties()\n",
      "        endnodename = endnodename.get('name')\n",
      "        endnodename = endnodename.encode()\n",
      "        if newnodename not in graph: #check to see if new node is in graph\n",
      "            graph.add_node(newnodename) # add if not\n",
      "            nodegrowth = nodegrowth + 1\n",
      "        if endnodename in graph: #check to see if end node is in graph\n",
      "            graph.add_edge(newnodename, endnodename) #add it if it is\n",
      "            edgegrowth = edgegrowth + 1\n",
      "    rels = list(graph_db.match(end_node=newnode)) #query graph for edges to and from that node\n",
      "    for edge in rels:\n",
      "        newnodename = edge.end_node.get_properties()\n",
      "        newnodename = newnodename.get('name')\n",
      "        newnodename = newnodename.encode()\n",
      "        startnodename = edge.start_node.get_properties()\n",
      "        startnodename = startnodename.get('name')\n",
      "        startnodename = startnodename.encode()\n",
      "        if newnodename not in graph: #check to see if new node is in graph\n",
      "            graph.add_node(newnodename) # add if not\n",
      "            nodegrowth = nodegrowth + 1\n",
      "        if startnodename in graph: #check to see if end node is in graph\n",
      "            graph.add_edge(startnodename, newnodename) #add it if it is\n",
      "            edgegrowth = edgegrowth + 1"
     ],
     "language": "python",
     "metadata": {},
     "outputs": []
    },
    {
     "cell_type": "code",
     "collapsed": false,
     "input": [
      "#this picks nodes at random, with the constraint that new node is connected to a node already in graph\\n\",\n",
      "#Growth_ensure_fully_connected\\n\",\n",
      "import random\n",
      "from time import time\n",
      "data = []\n",
      "sparemeasure = True\n",
      "directed = True\n",
      "num_measurements = 10\n",
      "sparse = True\n",
      "randomgrowth = False\n",
      "wholegrowth = False\n",
      "growthfactor = 100\n",
      "existing_nodes = []\n",
      "if directed:\n",
      "    graph = nx.DiGraph()\n",
      "else:\n",
      "    graph = nx.graph()\n",
      "if sparse == True:\n",
      "    sparsemeasurements = [3,4,5,6,7,8,9,growthfactor]\n",
      "    measurements = np.logspace(1, 3.8, 25)\n",
      "    for x in measurements:\n",
      "        sparsemeasurements.append(int(x))\n",
      "else:\n",
      "    sparsemeasurements = range(4,growthfactor)\n",
      "nodegrowth = 0\n",
      "edgegrowth = 0\n",
      "if wholegrowth == True:\n",
      "    growthfactor = len(nodes) + 1\n",
      "else: \n",
      "    growthfactor = growthfactor + 1\n",
      "\n",
      "    \n",
      "initial_node = random.choice(nodes.keys()) #randomly get a node to add from dictionary\n",
      "while nodegrowth < growthfactor:\n",
      "    try:\n",
      "        possiblenodes = graph.nodes() # get all nodes in graph.\n",
      "        try:\n",
      "            fromnode = random.choice(possiblenodes) #pick random node in graph to grow from.\n",
      "        except: #this is because you can't do random from one node at the start.\n",
      "            fromnode = initial_node\n",
      "        fromnode = nodes[fromnode] #get DB version of the node.\n",
      "        #get all relatinpships in graph DB for that node\n",
      "        new_node_rels = list(graph_db.match(end_node = fromnode, bidirectional=True))\n",
      "        new_rel = random.choice(new_node_rels)\n",
      "        # is the new node a part or child of the node we are growing from?\n",
      "        if new_rel.end_node == fromnode:\n",
      "            new_node = new_rel.start_node\n",
      "        if new_rel.start_node == fromnode:\n",
      "            new_node = new_rel.end_node\n",
      "        assert new_node != fromnode\n",
      "        newnode = new_node #different than above because it's already in graph db format\n",
      "        catch = get_strname(newnode)\n",
      "        if catch not in existing_nodes:\n",
      "            existing_nodes.append(catch)\n",
      "            rels = list(graph_db.match(start_node=newnode)) #query graph for edges to and from that node\n",
      "            for edge in rels:\n",
      "                newnodename = edge.start_node.get_properties()\n",
      "                newnodename = newnodename.get('name')\n",
      "                newnodename = newnodename.encode()\n",
      "                endnodename = edge.end_node.get_properties()\n",
      "                endnodename = endnodename.get('name')\n",
      "                endnodename = endnodename.encode()\n",
      "                if newnodename not in graph: #check to see if new node is in graph\n",
      "                    graph.add_node(newnodename) # add if not\n",
      "                    nodegrowth = nodegrowth + 1\n",
      "                if endnodename in graph: #check to see if end node is in graph\n",
      "                    graph.add_edge(newnodename, endnodename) #add it if it is\n",
      "            rels = list(graph_db.match(end_node=newnode)) #query graph for edges to and from that node\n",
      "            for edge in rels:\n",
      "                newnodename = edge.end_node.get_properties()\n",
      "                newnodename = newnodename.get('name')\n",
      "                newnodename = newnodename.encode()\n",
      "                startnodename = edge.start_node.get_properties()\n",
      "                startnodename = startnodename.get('name')\n",
      "                startnodename = startnodename.encode()\n",
      "                if newnodename not in graph: #check to see if new node is in graph\n",
      "                    graph.add_node(newnodename) # add if not\n",
      "                    nodegrowth = nodegrowth + 1\n",
      "                if startnodename in graph: #check to see if end node is in graph\n",
      "                    graph.add_edge(startnodename, newnodename) #add it if it is\n",
      "            if nodegrowth in sparsemeasurements:\n",
      "                start_time = time()\n",
      "                if randomgrowth == True:\n",
      "        #             np.random.shuffle(matrixgraph)\n",
      "                    matrixgraph = nx.fast_gnp_random_graph(nodegrowth,.9)\n",
      "                    matrixgraph = nx.to_numpy_matrix(graph)\n",
      "                    NXgraph = nx.Graph(matrixgraph) #make it back into a networkx graph\n",
      "                    partition = community.best_partition(NXgraph) #find the partition with maximal modularity\n",
      "                    modularity = community.modularity(partition,NXgraph) #calculate modularity with that partition\n",
      "                else:\n",
      "                    NXgraph = nx.Graph(graph) #make it into a networkx graph\n",
      "                    partition = community.best_partition(NXgraph) #find the partition with maximal modularity\n",
      "                    modularity = community.modularity(partition,NXgraph) #calculate modularity with that partition\n",
      "                    matrixgraph = nx.to_numpy_matrix(graph)\n",
      "                ismoral = False\n",
      "                while ismoral == False: #sometimes oct2py takes too long to return I think\n",
      "                    try:\n",
      "                        moral = octave.moralize(matrixgraph)\n",
      "                        ismoral = True\n",
      "                    except:\n",
      "                        ismoral = False\n",
      "                order = range(len(matrixgraph)+1)\n",
      "                order = order[1:]\n",
      "                istriangulated = False\n",
      "                while istriangulated == False: #sometimes oct2py takes too long to return I think\n",
      "                    try:\n",
      "                        triangulated = octave.triangulate(moral,order)\n",
      "                        istriangulated = True\n",
      "                    except:\n",
      "                        istriangulated = False\n",
      "                triangulated2 = nx.from_numpy_matrix(triangulated)\n",
      "                cliques = nx.find_cliques_recursive(triangulated2)\n",
      "                numcliques = len(cliques)\n",
      "                cliquesizes = []\n",
      "                for line in cliques:\n",
      "                    size = len(line)\n",
      "                    cliquesizes.append(size)\n",
      "                maxclique = max(cliquesizes)\n",
      "                avgclique = np.mean(cliquesizes)\n",
      "                end_time = time()\n",
      "                run_time = end_time - start_time\n",
      "                data.append([nodegrowth, len(graph.edges()), maxclique,avgclique,modularity,run_time])\n",
      "                sparsemeasurements.remove(nodegrowth) #so we don't calculate clique size more than once!\n",
      "                print 'Growing graph with ' + str(nodegrowth) + ' nodes, ' + str(modularity) + ' modularity, max clique of ' + str(maxclique) + ', ' + str(len(graph.edges())) + ' edges.'\n",
      "    except:\n",
      "        print 'error!'"
     ],
     "language": "python",
     "metadata": {},
     "outputs": [
      {
       "output_type": "stream",
       "stream": "stdout",
       "text": [
        "Growing graph with 3 nodes, 0.0 modularity, max clique of 2, 2 edges.\n",
        "Growing graph with 4 nodes, 0.166666666667 modularity, max clique of 3, 4 edges."
       ]
      },
      {
       "output_type": "stream",
       "stream": "stdout",
       "text": [
        "\n",
        "Growing graph with 5 nodes, 0.21875 modularity, max clique of 3, 6 edges."
       ]
      },
      {
       "output_type": "stream",
       "stream": "stdout",
       "text": [
        "\n",
        "Growing graph with 6 nodes, 0.3 modularity, max clique of 3, 8 edges."
       ]
      },
      {
       "output_type": "stream",
       "stream": "stdout",
       "text": [
        "\n",
        "Growing graph with 7 nodes, 0.319444444444 modularity, max clique of 3, 10 edges."
       ]
      },
      {
       "output_type": "stream",
       "stream": "stdout",
       "text": [
        "\n",
        "Growing graph with 8 nodes, 0.357142857143 modularity, max clique of 4, 11 edges."
       ]
      },
      {
       "output_type": "stream",
       "stream": "stdout",
       "text": [
        "\n",
        "Growing graph with 9 nodes, 0.3828125 modularity, max clique of 4, 13 edges."
       ]
      },
      {
       "output_type": "stream",
       "stream": "stdout",
       "text": [
        "\n",
        "Growing graph with 10 nodes, 0.465 modularity, max clique of 4, 17 edges."
       ]
      },
      {
       "output_type": "stream",
       "stream": "stdout",
       "text": [
        "\n",
        "Growing graph with 13 nodes, 0.505917159763 modularity, max clique of 5, 21 edges."
       ]
      },
      {
       "output_type": "stream",
       "stream": "stdout",
       "text": [
        "\n",
        "Growing graph with 17 nodes, 0.46675900277 modularity, max clique of 8, 27 edges."
       ]
      },
      {
       "output_type": "stream",
       "stream": "stdout",
       "text": [
        "\n",
        "Growing graph with 22 nodes, 0.555473372781 modularity, max clique of 9, 37 edges."
       ]
      },
      {
       "output_type": "stream",
       "stream": "stdout",
       "text": [
        "\n",
        "Growing graph with 29 nodes, 0.611020408163 modularity, max clique of 10, 49 edges."
       ]
      },
      {
       "output_type": "stream",
       "stream": "stdout",
       "text": [
        "\n",
        "Growing graph with 38 nodes, 0.644718792867 modularity, max clique of 13, 73 edges."
       ]
      },
      {
       "output_type": "stream",
       "stream": "stdout",
       "text": [
        "\n",
        "Growing graph with 50 nodes, 0.600865245954 modularity, max clique of 21, 107 edges."
       ]
      },
      {
       "output_type": "stream",
       "stream": "stdout",
       "text": [
        "\n",
        "Growing graph with 65 nodes, 0.65124989479 modularity, max clique of 30, 145 edges."
       ]
      },
      {
       "output_type": "stream",
       "stream": "stdout",
       "text": [
        "\n",
        "Growing graph with 85 nodes, 0.578098535888 modularity, max clique of 44, 213 edges."
       ]
      },
      {
       "output_type": "stream",
       "stream": "stdout",
       "text": [
        "\n",
        "Growing graph with 100 nodes, 0.603132638963 modularity, max clique of 52, 249 edges."
       ]
      },
      {
       "output_type": "stream",
       "stream": "stdout",
       "text": [
        "\n"
       ]
      }
     ],
     "prompt_number": 15
    },
    {
     "cell_type": "code",
     "collapsed": false,
     "input": [
      "df = pd.DataFrame(data, columns= ('nodegrowth','edgegrowth', 'maxclique','avgclique','modularity','run_time'))"
     ],
     "language": "python",
     "metadata": {},
     "outputs": [],
     "prompt_number": 16
    },
    {
     "cell_type": "code",
     "collapsed": false,
     "input": [
      "moral = matrix(moral)"
     ],
     "language": "python",
     "metadata": {},
     "outputs": [],
     "prompt_number": 23
    },
    {
     "cell_type": "code",
     "collapsed": false,
     "input": [
      "moral.shape"
     ],
     "language": "python",
     "metadata": {},
     "outputs": [
      {
       "metadata": {},
       "output_type": "pyout",
       "prompt_number": 26,
       "text": [
        "(100, 100)"
       ]
      }
     ],
     "prompt_number": 26
    },
    {
     "cell_type": "code",
     "collapsed": false,
     "input": [
      "x1 = df['maxclique']\n",
      "# x2 = dfran['run_time']\n",
      "x3 = df['modularity']\n",
      "# x4 = df['modularity']\n",
      "y = df['nodegrowth']\n",
      "# y2 = df['nodegrowth']\n",
      "fig = plt.figure(figsize=(24,16))\n",
      "ax = fig.add_subplot(1,1,1)\n",
      "ax2 = ax.twinx()\n",
      "line1, = ax.plot( y, x1, label = 'Random Largest Clique')\n",
      "# line2, = ax.plot(y, x2, label = 'Computation Time')\n",
      "line3, = ax2.plot(y, x3, label = 'Random Modularity', color = 'red')\n",
      "# line4, = ax2.plot(y2, x4, label = 'Real Modularity', color ='purple')\n",
      "ax.set_xlabel('Nodes in Graph',fontsize=20)\n",
      "ax.set_ylabel('Clique Size',fontsize=20)\n",
      "ax2.set_ylabel('Modularity', fontsize=20)\n",
      "plt.suptitle('Random Graph Growth', fontsize=30)\n",
      "plt.legend((line1,line3),('Largest Clique', 'Modularity'), loc='upper center', frameon=False, fontsize=20)\n",
      "plt.show()"
     ],
     "language": "python",
     "metadata": {},
     "outputs": [],
     "prompt_number": 17
    },
    {
     "cell_type": "code",
     "collapsed": false,
     "input": [
      "#this picks nodes at random, with the constraint that new node is connected to a node already in graph\n",
      "#Growth_ensure_fully_connected\n",
      "import random\n",
      "from time import time\n",
      "data = []\n",
      "sparemeasure = True\n",
      "directed = True\n",
      "num_measurements = 10\n",
      "sparse = True\n",
      "randomgrowth = False\n",
      "wholegrowth = False\n",
      "growthfactor = 1000\n",
      "if directed:\n",
      "    graph = nx.DiGraph()\n",
      "else: \n",
      "    graph = nx.graph()\n",
      "if sparse == True:\n",
      "    sparsemeasurements = [3,4,5,6,7,8,9,5000]\n",
      "    measurements = np.logspace(1, 3.8, 25)\n",
      "    for x in measurements:\n",
      "        sparsemeasurements.append(int(x))\n",
      "else:\n",
      "    sparsemeasurements = range(4,growthfactor)\n",
      "\n",
      "nodegrowth = 0\n",
      "edgegrowth = 0\n",
      "if wholegrowth == True:\n",
      "    growthfactor = len(nodes) + 1 \n",
      "else:\n",
      "    growthfactor = growthfactor + 1 \n",
      "initial_node = random.choice(nodes.keys()) #randomly get a node to add from dictionary\n",
      "while nodegrowth < growthfactor:\n",
      "    try:\n",
      "        possiblenodes = graph.nodes() # get all nodes in graph.\n",
      "        try:\n",
      "            fromnode = random.choice(possiblenodes) #pick random node in graph to grow from.\n",
      "        except: #this is because you can't do random from one node at the start.\n",
      "            fromnode = initial_node\n",
      "        fromnode = nodes[fromnode] #get DB version of the node.\n",
      "        #get all relatinpships in graph DB for that node\n",
      "        new_node_rels = list(graph_db.match(end_node = fromnode, bidirectional=True))\n",
      "        new_rel = random.choice(new_node_rels)\n",
      "        \n",
      "        # is the new node a part or child of the node we are growing from?\n",
      "        if new_rel.end_node == fromnode:\n",
      "            new_node = new_rel.start_node\n",
      "        if new_rel.start_node == fromnode:\n",
      "            new_node = new_rel.end_node\n",
      "        assert new_node != fromnode \n",
      "    \n",
      "        newnode = new_node #different than above because it's already in graph db format\n",
      "        rels = list(graph_db.match(start_node=newnode)) #query graph for edges to and from that node\n",
      "        for edge in rels:\n",
      "            newnodename = edge.start_node.get_properties()\n",
      "            newnodename = newnodename.get('name')\n",
      "            newnodename = newnodename.encode()\n",
      "            endnodename = edge.end_node.get_properties()\n",
      "            endnodename = endnodename.get('name')\n",
      "            endnodename = endnodename.encode()\n",
      "            if newnodename not in graph: #check to see if new node is in graph\n",
      "                graph.add_node(newnodename) # add if not\n",
      "                nodegrowth = nodegrowth + 1\n",
      "            if endnodename in graph: #check to see if end node is in graph\n",
      "                graph.add_edge(newnodename, endnodename) #add it if it is        \n",
      "        rels = list(graph_db.match(end_node=newnode)) #query graph for edges to and from that node\n",
      "        for edge in rels:\n",
      "            newnodename = edge.end_node.get_properties()\n",
      "            newnodename = newnodename.get('name')\n",
      "            newnodename = newnodename.encode()\n",
      "            startnodename = edge.start_node.get_properties()\n",
      "            startnodename = startnodename.get('name')\n",
      "            startnodename = startnodename.encode()\n",
      "            if newnodename not in graph: #check to see if new node is in graph\n",
      "                graph.add_node(newnodename) # add if not\n",
      "                nodegrowth = nodegrowth + 1\n",
      "            if startnodename in graph: #check to see if end node is in graph\n",
      "                graph.add_edge(startnodename, newnodename) #add it if it is\n",
      "        if nodegrowth in sparsemeasurements: \n",
      "            start_time = time()\n",
      "            if randomgrowth == True:\n",
      "    #             np.random.shuffle(matrixgraph)\n",
      "                matrixgraph = nx.fast_gnp_random_graph(nodegrowth,.9)\n",
      "                matrixgraph = nx.adjacency_matrix(graph)\n",
      "                NXgraph = nx.Graph(matrixgraph) #make it back into a networkx graph\n",
      "                partition = community.best_partition(NXgraph) #find the partition with maximal modularity\n",
      "                modularity = community.modularity(partition,NXgraph) #calculate modularity with that partition\n",
      "            else:\n",
      "                NXgraph = nx.Graph(graph) #make it into a networkx graph\n",
      "                partition = community.best_partition(NXgraph) #find the partition with maximal modularity\n",
      "                modularity = community.modularity(partition,NXgraph) #calculate modularity with that partition  \n",
      "                matrixgraph = nx.adjacency_matrix(graph)\n",
      "            ismoral = False\n",
      "            while ismoral == False: #sometimes oct2py takes too long to return I think\n",
      "                try:\n",
      "                    moral = octave.moralize(matrixgraph)\n",
      "                    ismoral = True\n",
      "                except:\n",
      "                    ismoral = False\n",
      "            order = range(len(matrixgraph)+1)\n",
      "            order = order[1:]\n",
      "            istriangulated = False\n",
      "            while istriangulated == False: #sometimes oct2py takes too long to return I think\n",
      "                try:\n",
      "                    triangulated = octave.triangulate(moral,order)\n",
      "                    istriangulated = True\n",
      "                except:\n",
      "                    istriangulated = False\n",
      "            triangulated2 = nx.from_numpy_matrix(triangulated)\n",
      "            cliques = nx.find_cliques_recursive(triangulated2)\n",
      "            numcliques = len(cliques)\n",
      "            cliquesizes = []\n",
      "            for line in cliques:\n",
      "                size = len(line)\n",
      "                cliquesizes.append(size)\n",
      "            maxclique = max(cliquesizes)\n",
      "            avgclique = np.mean(cliquesizes)\n",
      "            end_time = time()\n",
      "            run_time = end_time - start_time\n",
      "            data.append([nodegrowth, len(graph.edges()), maxclique,avgclique,modularity,run_time])\n",
      "            sparsemeasurements.remove(nodegrowth) #so we don't calculate clique size more than once!\n",
      "            print 'Growing graph with ' + str(nodegrowth) + ' nodes, ' + str(modularity) + ' modularity, max clique of ' + str(maxclique) + ', ' + str(len(graph.edges())) + ' edges.'\n",
      "    except:\n",
      "        print 'error!'"
     ],
     "language": "python",
     "metadata": {},
     "outputs": [
      {
       "output_type": "stream",
       "stream": "stdout",
       "text": [
        "error!\n",
        "Growing graph with 3 nodes, 0.0 modularity, max clique of 2, 2 edges."
       ]
      },
      {
       "output_type": "stream",
       "stream": "stdout",
       "text": [
        "\n",
        "Growing graph with 4 nodes, 0.166666666667 modularity, max clique of 3, 3 edges."
       ]
      },
      {
       "output_type": "stream",
       "stream": "stdout",
       "text": [
        "\n",
        "Growing graph with 5 nodes, 0.21875 modularity, max clique of 3, 4 edges."
       ]
      },
      {
       "output_type": "stream",
       "stream": "stdout",
       "text": [
        "\n",
        "Growing graph with 6 nodes, 0.26 modularity, max clique of 3, 5 edges."
       ]
      },
      {
       "output_type": "stream",
       "stream": "stdout",
       "text": [
        "\n",
        "Growing graph with 7 nodes, 0.319444444444 modularity, max clique of 3, 7 edges."
       ]
      },
      {
       "output_type": "stream",
       "stream": "stdout",
       "text": [
        "\n",
        "Growing graph with 8 nodes, 0.377551020408 modularity, max clique of 3, 9 edges."
       ]
      },
      {
       "output_type": "stream",
       "stream": "stdout",
       "text": [
        "\n",
        "Growing graph with 9 nodes, 0.4140625 modularity, max clique of 4, 11 edges."
       ]
      },
      {
       "output_type": "stream",
       "stream": "stdout",
       "text": [
        "\n",
        "Growing graph with 10 nodes, 0.401234567901 modularity, max clique of 5, 13 edges."
       ]
      },
      {
       "output_type": "stream",
       "stream": "stdout",
       "text": [
        "\n",
        "Growing graph with 13 nodes, 0.511834319527 modularity, max clique of 5, 19 edges."
       ]
      },
      {
       "output_type": "stream",
       "stream": "stdout",
       "text": [
        "\n",
        "Growing graph with 17 nodes, 0.49537037037 modularity, max clique of 6, 25 edges."
       ]
      },
      {
       "output_type": "stream",
       "stream": "stdout",
       "text": [
        "\n",
        "Growing graph with 22 nodes, 0.494822485207 modularity, max clique of 12, 34 edges."
       ]
      },
      {
       "output_type": "stream",
       "stream": "stdout",
       "text": [
        "\n",
        "Growing graph with 29 nodes, 0.548875432526 modularity, max clique of 15, 43 edges."
       ]
      },
      {
       "output_type": "stream",
       "stream": "stdout",
       "text": [
        "\n",
        "Growing graph with 38 nodes, 0.605034722222 modularity, max clique of 18, 64 edges."
       ]
      },
      {
       "output_type": "stream",
       "stream": "stdout",
       "text": [
        "\n",
        "Growing graph with 50 nodes, 0.609378480731 modularity, max clique of 23, 85 edges."
       ]
      },
      {
       "output_type": "stream",
       "stream": "stdout",
       "text": [
        "\n",
        "Growing graph with 65 nodes, 0.605289736144 modularity, max clique of 30, 114 edges."
       ]
      },
      {
       "output_type": "stream",
       "stream": "stdout",
       "text": [
        "\n",
        "Growing graph with 85 nodes, 0.638820239334 modularity, max clique of 33, 158 edges."
       ]
      },
      {
       "output_type": "stream",
       "stream": "stdout",
       "text": [
        "\n",
        "Growing graph with 112 nodes, 0.644669904035 modularity, max clique of 53, 228 edges."
       ]
      },
      {
       "output_type": "stream",
       "stream": "stdout",
       "text": [
        "\n",
        "Growing graph with 146 nodes, 0.640015872132 modularity, max clique of 81, 330 edges."
       ]
      },
      {
       "output_type": "stream",
       "stream": "stdout",
       "text": [
        "\n",
        "Growing graph with 192 nodes, 0.636622181258 modularity, max clique of 115, 490 edges."
       ]
      },
      {
       "output_type": "stream",
       "stream": "stdout",
       "text": [
        "\n",
        "Growing graph with 251 nodes, 0.588225183942 modularity, max clique of 169, 766 edges."
       ]
      },
      {
       "output_type": "stream",
       "stream": "stdout",
       "text": [
        "\n",
        "Growing graph with 328 nodes, 0.571804080538 modularity, max clique of 224, 1119 edges."
       ]
      },
      {
       "output_type": "stream",
       "stream": "stdout",
       "text": [
        "\n",
        "Growing graph with 429 nodes, 0.53430999252 modularity, max clique of 293, 1651 edges."
       ]
      },
      {
       "output_type": "stream",
       "stream": "stdout",
       "text": [
        "\n",
        "Growing graph with 562 nodes, 0.488670719463 modularity, max clique of 405, 2638 edges."
       ]
      },
      {
       "output_type": "stream",
       "stream": "stdout",
       "text": [
        "\n",
        "Growing graph with 735 nodes, 0.467933878282 modularity, max clique of 565, 3959 edges."
       ]
      },
      {
       "output_type": "stream",
       "stream": "stdout",
       "text": [
        "\n",
        "Growing graph with 962 nodes, 0.462573309232 modularity, max clique of 743, 5880 edges."
       ]
      },
      {
       "output_type": "stream",
       "stream": "stdout",
       "text": [
        "\n"
       ]
      },
      {
       "output_type": "stream",
       "stream": "stderr",
       "text": [
        "No handlers could be found for logger \"py2neo.packages.httpstream.http\"\n"
       ]
      }
     ],
     "prompt_number": 10
    },
    {
     "cell_type": "code",
     "collapsed": false,
     "input": [],
     "language": "python",
     "metadata": {},
     "outputs": [],
     "prompt_number": 31
    },
    {
     "cell_type": "code",
     "collapsed": false,
     "input": [],
     "language": "python",
     "metadata": {},
     "outputs": []
    }
   ],
   "metadata": {}
  }
 ]
}