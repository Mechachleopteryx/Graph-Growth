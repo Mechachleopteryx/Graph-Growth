{
 "metadata": {
  "name": ""
 },
 "nbformat": 3,
 "nbformat_minor": 0,
 "worksheets": [
  {
   "cells": [
    {
     "cell_type": "heading",
     "level": 1,
     "metadata": {},
     "source": [
      "Open Source Bayes Net Toolbox for Python"
     ]
    },
    {
     "cell_type": "heading",
     "level": 2,
     "metadata": {},
     "source": [
      "This is an open source version of Bayes Net Toolbox for matlab that operates in a python environment"
     ]
    },
    {
     "cell_type": "heading",
     "level": 2,
     "metadata": {},
     "source": [
      "Introduction by Maxwell Bertolero, UC Berkeley."
     ]
    },
    {
     "cell_type": "heading",
     "level": 3,
     "metadata": {},
     "source": [
      "Installation"
     ]
    },
    {
     "cell_type": "code",
     "collapsed": false,
     "input": [
      "x = open('INSTALLREADME.txt')\n",
      "for line in x: print line"
     ],
     "language": "python",
     "metadata": {},
     "outputs": [
      {
       "output_type": "stream",
       "stream": "stdout",
       "text": [
        "Install Process\n",
        "\n",
        "______________________________________________\n",
        "\n",
        "Get oct2py \n",
        "\n",
        "$ pip install oct2py\n",
        "\n",
        "______________________________________________\n",
        "\n",
        "Get homebrew! \n",
        "\n",
        "$ ruby -e \"$(curl -kfsSL https://raw.github.com/mxcl/homebrew/go)\"\n",
        "\n",
        "______________________________________________\n",
        "\n",
        "Get Octave! \n",
        "\n",
        "$ brew tap homebrew/science\n",
        "\n",
        "$ brew update && brew upgrade\n",
        "\n",
        "$ brew install gfortran\n",
        "\n",
        "$ brew install octave\n",
        "\n",
        "______________________________________________\n",
        "\n",
        "Get py2neo\n",
        "\n",
        "$ pip install py2no\n",
        "\n",
        "______________________________________________\n",
        "\n",
        "Get neo4j\n",
        "\n",
        "$ brew install neo4j\n"
       ]
      }
     ],
     "prompt_number": 1
    },
    {
     "cell_type": "code",
     "collapsed": false,
     "input": [
      "#graph theory and basic modules\n",
      "import sys\n",
      "import scipy\n",
      "from scipy import io\n",
      "import community #module I built from networkX stuff. \n",
      "from networkx import chordal_alg\n",
      "import random\n",
      "import networkx as nx\n",
      "import numpy as np\n",
      "import os\n",
      "import pickle\n",
      "import csv\n",
      "#oct2py and Octave stuff\n",
      "from oct2py import Oct2Py #this is not built in.\n",
      "oc = Oct2Py()\n",
      "from oct2py import octave #you need to have Octave installed on your computer. It's free! \n",
      "# database modules\n",
      "from py2neo import neo4j, rel, node\n",
      "os.system('neo4j stop')\n",
      "os.system('neo4j start') # get the graph database server going.\n",
      "#if you want to delete the database!\n",
      "# cd /usr/local/Cellar/neo4j/1.9.4/libexec/data\n",
      "# os.command(rm -R graph_db)\n",
      "graph_db = neo4j.GraphDatabaseService()\n",
      "# this will store in usr/local/Cellar/neo4j/community-1.9.2-unix/libexec/data\n",
      "#make sure graph DB initialized \n",
      "print graph_db.neo4j_version\n",
      "nodes = open('nodes.p','r')\n",
      "nodes = pickle.load(nodes)\n",
      "#way to get name of database node\n",
      "def get_strname(NODE):\n",
      "    NODE = NODE.get_properties()\n",
      "    NODE = NODE.get('name')\n",
      "    NODE = NODE.encode()\n",
      "    return str(NODE)"
     ],
     "language": "python",
     "metadata": {},
     "outputs": [
      {
       "output_type": "stream",
       "stream": "stdout",
       "text": [
        "(1, 9, 4, u'')\n"
       ]
      }
     ],
     "prompt_number": 2
    },
    {
     "cell_type": "heading",
     "level": 3,
     "metadata": {},
     "source": [
      "Build Directed Graph from CSV file"
     ]
    },
    {
     "cell_type": "heading",
     "level": 4,
     "metadata": {},
     "source": [
      "Loop through CSV file to build graph. I assume that the node in the first column is directed at the node in the second column."
     ]
    },
    {
     "cell_type": "code",
     "collapsed": false,
     "input": [
      "graph_db.clear()\n",
      "assert graph_db.size == 0 "
     ],
     "language": "python",
     "metadata": {},
     "outputs": [],
     "prompt_number": 3
    },
    {
     "cell_type": "code",
     "collapsed": false,
     "input": [
      "csvfile = open('edgeFileWords.csv')\n",
      "reader = csv.reader(csvfile,delimiter=',')\n",
      "nodes = {} # keep track of nodes already in graph_db.\n",
      "def get_or_create_node(graph_db, name):\n",
      "    if name not in nodes:\n",
      "        nodes[name], = graph_db.create(node(name=name)) #make the node if it doesn't exist \n",
      "    return nodes[name] #return the node\n",
      "for row in reader:\n",
      "    parent = get_or_create_node(graph_db, row[0])\n",
      "    child = get_or_create_node(graph_db, row[1])\n",
      "    parent_child, = graph_db.create(rel(parent, \"--\", child)) \n",
      "pickle.dump(nodes, open(\"nodes.p\", \"wb\" ) )"
     ],
     "language": "python",
     "metadata": {},
     "outputs": [],
     "prompt_number": "*"
    },
    {
     "cell_type": "heading",
     "level": 4,
     "metadata": {},
     "source": [
      "Grow Graph"
     ]
    },
    {
     "cell_type": "code",
     "collapsed": false,
     "input": [
      "#Growth_ensure_fully_connected\n",
      "import random\n",
      "from time import time\n",
      "data = []\n",
      "sparse = True\n",
      "directed = True\n",
      "randomgrowth = False\n",
      "wholegrowth = False\n",
      "growthfactor = 1000\n",
      "num_measurments = 10\n",
      "verbose = False\n",
      "graph = nx.DiGraph()\n",
      "graph.clear()  \n",
      "\n",
      "if sparse == True:\n",
      "    sparsemeasurements = [6,7,8,9,growthfactor]\n",
      "    measurements = np.logspace(1, (int(len(str(growthfactor))))-1, num_measurments)\n",
      "    for x in measurements:\n",
      "        sparsemeasurements.append(int(x))\n",
      "else:\n",
      "    sparsemeasurements = range(4,growthfactor)\n",
      "\n",
      "nodegrowth = 0\n",
      "edgegrowth = 0\n",
      "if wholegrowth == True:\n",
      "    growthfactor = len(nodes)\n",
      "\n",
      "\n",
      "initial_node = random.choice(nodes.keys()) #randomly get a node to add from dictionary\n",
      "if verbose:\n",
      "    print 'Starting from ' + initial_node\n",
      "while nodegrowth < growthfactor:\n",
      "        if nodegrowth > 1:\n",
      "            possiblenodes = graph.nodes() # get all nodes in graph.\n",
      "            fromnode = random.choice(possiblenodes) #pick random node in graph to grow from.\n",
      "            if verbose:\n",
      "                print 'Using ' + str(fromnode) + ' to find new node'\n",
      "        else: #this is because you can't do random from one node at the start.\n",
      "            fromnode = initial_node\n",
      "            if verbose:\n",
      "                print 'using initial node'\n",
      "        \n",
      "        fromnode = nodes[fromnode] #get DB version of the node.\n",
      "        #get all relatinpships in graph DB for that node\n",
      "        new_node_rels = list(graph_db.match(end_node = fromnode, bidirectional=True))\n",
      "        new_rel = random.choice(new_node_rels)\n",
      "        \n",
      "        # is the new node a part or child of the node we are growing from?\n",
      "        if new_rel.end_node == fromnode:\n",
      "            new_node = new_rel.start_node\n",
      "        if new_rel.start_node == fromnode:\n",
      "            new_node = new_rel.end_node\n",
      "        assert new_node != fromnode \n",
      "        newnode = new_node #different than above because it's already in graph db format\n",
      "        rels = list(graph_db.match(start_node=newnode)) #query graph for edges to and from that node\n",
      "        for edge in rels:\n",
      "            newnodename = edge.start_node.get_properties()\n",
      "            newnodename = newnodename.get('name')\n",
      "            newnodename = newnodename.encode()\n",
      "            endnodename = edge.end_node.get_properties()\n",
      "            endnodename = endnodename.get('name')\n",
      "            endnodename = endnodename.encode()\n",
      "            if newnodename not in graph: #check to see if new node is in graph\n",
      "                graph.add_node(newnodename) # add if not\n",
      "                nodegrowth = nodegrowth + 1\n",
      "                if verbose:\n",
      "                    print 'added ' + str(newnodename)\n",
      "            if endnodename in graph: #check to see if end node is in graph\n",
      "                graph.add_edge(newnodename, endnodename) #add it if it is\n",
      "                if verbose:\n",
      "                    print 'connected ' + newnodename +' to '+ endnodename\n",
      "        \n",
      "        rels = list(graph_db.match(end_node=newnode)) #query graph for edges to and from that node\n",
      "        for edge in rels:\n",
      "            newnodename = edge.end_node.get_properties()\n",
      "            newnodename = newnodename.get('name')\n",
      "            newnodename = newnodename.encode()\n",
      "            startnodename = edge.start_node.get_properties()\n",
      "            startnodename = startnodename.get('name')\n",
      "            startnodename = startnodename.encode()\n",
      "            if newnodename not in graph: #check to see if new node is in graph\n",
      "                graph.add_node(newnodename) # add if not\n",
      "                nodegrowth = nodegrowth + 1\n",
      "                if verbose:\n",
      "                    print 'added ' + str(newnodename)\n",
      "            if startnodename in graph: #check to see if end node is in graph\n",
      "                graph.add_edge(startnodename, newnodename) #add it if it is\n",
      "                if verbose:\n",
      "                    print 'connected ' + startnodename +' to '+ newnodename\n",
      "        if nodegrowth in sparsemeasurements: \n",
      "            if randomgrowth == True:\n",
      "                #np.random.shuffle(matrixgraph)\n",
      "                matrixgraph = nx.fast_gnp_random_graph(nodegrowth,.9)\n",
      "                matrixgraph = nx.adjacency_matrix(graph)\n",
      "                NXgraph = nx.Graph(matrixgraph) #make it back into a networkx graph\n",
      "                partition = community.best_partition(NXgraph) #find the partition with maximal modularity\n",
      "                modularity = community.modularity(partition,NXgraph) #calculate modularity with that partition\n",
      "            else:\n",
      "                NXgraph = nx.Graph(graph) #make it into a networkx graph\n",
      "                partition = community.best_partition(NXgraph) #find the partition with maximal modularity\n",
      "                modularity = community.modularity(partition,NXgraph) #calculate modularity with that partition \n",
      "            start_time = time()\n",
      "            matrixgraph = nx.adjacency_matrix(graph)\n",
      "            ismoral = False\n",
      "            while ismoral == False: #sometimes oct2py takes too long to return I think\n",
      "                try:\n",
      "                    moral = octave.moralize(matrixgraph)\n",
      "                    ismoral = True\n",
      "                except:\n",
      "                    ismoral = False\n",
      "                    print 'Octave Error'\n",
      "            order = range(len(matrixgraph)+1)\n",
      "            order = order[1:]\n",
      "            istriangulated = False\n",
      "            while istriangulated == False: #sometimes oct2py takes too long to return I think\n",
      "                try:\n",
      "                    triangulated = octave.triangulate(moral,order)\n",
      "                    istriangulated = True\n",
      "                except:\n",
      "                    istriangulated = False\n",
      "                    print 'Octave Error' \n",
      "            triangulated2 = nx.from_numpy_matrix(triangulated)\n",
      "            cliques = nx.find_cliques(triangulated2)\n",
      "            cliquesizes = []\n",
      "            for x in cliques:\n",
      "                size = len(x)\n",
      "                cliquesizes.append(size)\n",
      "            maxclique = max(cliquesizes)\n",
      "            avgclique = np.mean(cliquesizes)\n",
      "            end_time = time()\n",
      "            run_time = end_time - start_time\n",
      "            data.append([nodegrowth, len(graph.edges()), modularity, maxclique,avgclique,run_time])\n",
      "            sparsemeasurements.remove(nodegrowth) #so we don't calculate clique size more than once!\n",
      "            if verbose:\n",
      "                print 'took ' + str(run_time) + ' to run last computation'\n",
      "            print 'Growing graph with ' + str(nodegrowth) + ' nodes, ' + str(modularity) + ' modularity, max clique of ' + str(maxclique) + ', ' + str(len(graph.edges())) + ' edges.'"
     ],
     "language": "python",
     "metadata": {},
     "outputs": [
      {
       "output_type": "stream",
       "stream": "stdout",
       "text": [
        "Growing graph with 6 nodes, 0.08 modularity, max clique of 3, 5 edges.\n",
        "Growing graph with 7 nodes, 0.224489795918 modularity, max clique of 3, 7 edges."
       ]
      },
      {
       "output_type": "stream",
       "stream": "stdout",
       "text": [
        "\n",
        "Growing graph with 8 nodes, 0.25 modularity, max clique of 4, 8 edges."
       ]
      },
      {
       "output_type": "stream",
       "stream": "stdout",
       "text": [
        "\n",
        "Growing graph with 9 nodes, 0.308641975309 modularity, max clique of 4, 9 edges."
       ]
      },
      {
       "output_type": "stream",
       "stream": "stdout",
       "text": [
        "\n",
        "Growing graph with 10 nodes, 0.34 modularity, max clique of 5, 11 edges."
       ]
      },
      {
       "output_type": "stream",
       "stream": "stdout",
       "text": [
        "\n",
        "Growing graph with 13 nodes, 0.434911242604 modularity, max clique of 7, 14 edges."
       ]
      },
      {
       "output_type": "stream",
       "stream": "stdout",
       "text": [
        "\n",
        "Growing graph with 17 nodes, 0.496539792388 modularity, max clique of 7, 18 edges."
       ]
      },
      {
       "output_type": "stream",
       "stream": "stdout",
       "text": [
        "\n",
        "Growing graph with 20 nodes, 0.534013605442 modularity, max clique of 9, 23 edges."
       ]
      },
      {
       "output_type": "stream",
       "stream": "stdout",
       "text": [
        "\n"
       ]
      }
     ],
     "prompt_number": 62
    },
    {
     "cell_type": "code",
     "collapsed": false,
     "input": [
      "(int(len(str(growthfactor))))-1"
     ],
     "language": "python",
     "metadata": {},
     "outputs": [
      {
       "metadata": {},
       "output_type": "pyout",
       "prompt_number": 80,
       "text": [
        "3"
       ]
      }
     ],
     "prompt_number": 80
    },
    {
     "cell_type": "code",
     "collapsed": false,
     "input": [
      "measurements = np.logspace(1, (int(len(str(growthfactor))))-1, 25)"
     ],
     "language": "python",
     "metadata": {},
     "outputs": [],
     "prompt_number": 81
    },
    {
     "cell_type": "code",
     "collapsed": false,
     "input": [
      "measurements"
     ],
     "language": "python",
     "metadata": {},
     "outputs": [
      {
       "metadata": {},
       "output_type": "pyout",
       "prompt_number": 82,
       "text": [
        "array([   10.        ,    12.11527659,    14.67799268,    17.7827941 ,\n",
        "          21.5443469 ,    26.10157216,    31.6227766 ,    38.3118685 ,\n",
        "          46.41588834,    56.23413252,    68.12920691,    82.54041853,\n",
        "         100.        ,   121.15276586,   146.77992676,   177.827941  ,\n",
        "         215.443469  ,   261.01572157,   316.22776602,   383.11868496,\n",
        "         464.15888336,   562.34132519,   681.29206906,   825.40418527,\n",
        "        1000.        ])"
       ]
      }
     ],
     "prompt_number": 82
    },
    {
     "cell_type": "code",
     "collapsed": false,
     "input": [],
     "language": "python",
     "metadata": {},
     "outputs": [],
     "prompt_number": 59
    },
    {
     "cell_type": "code",
     "collapsed": false,
     "input": [
      "import pandas as pd\n",
      "df = pd.DataFrame(data, columns= ('nodegrowth','edgegrowth','modularity','maxclique','avgclique','run_time'))\n",
      "df.head(25)"
     ],
     "language": "python",
     "metadata": {},
     "outputs": [
      {
       "html": [
        "<div style=\"max-height:1000px;max-width:1500px;overflow:auto;\">\n",
        "<table border=\"1\" class=\"dataframe\">\n",
        "  <thead>\n",
        "    <tr style=\"text-align: right;\">\n",
        "      <th></th>\n",
        "      <th>nodegrowth</th>\n",
        "      <th>edgegrowth</th>\n",
        "      <th>modularity</th>\n",
        "      <th>maxclique</th>\n",
        "      <th>avgclique</th>\n",
        "      <th>run_time</th>\n",
        "    </tr>\n",
        "  </thead>\n",
        "  <tbody>\n",
        "    <tr>\n",
        "      <th>0</th>\n",
        "      <td>  6</td>\n",
        "      <td>  5</td>\n",
        "      <td> 0.080000</td>\n",
        "      <td> 3</td>\n",
        "      <td> 2.500000</td>\n",
        "      <td> 0.009944</td>\n",
        "    </tr>\n",
        "    <tr>\n",
        "      <th>1</th>\n",
        "      <td>  7</td>\n",
        "      <td>  7</td>\n",
        "      <td> 0.224490</td>\n",
        "      <td> 3</td>\n",
        "      <td> 3.000000</td>\n",
        "      <td> 0.009955</td>\n",
        "    </tr>\n",
        "    <tr>\n",
        "      <th>2</th>\n",
        "      <td>  8</td>\n",
        "      <td>  8</td>\n",
        "      <td> 0.250000</td>\n",
        "      <td> 4</td>\n",
        "      <td> 3.250000</td>\n",
        "      <td> 0.011048</td>\n",
        "    </tr>\n",
        "    <tr>\n",
        "      <th>3</th>\n",
        "      <td>  9</td>\n",
        "      <td>  9</td>\n",
        "      <td> 0.308642</td>\n",
        "      <td> 4</td>\n",
        "      <td> 3.000000</td>\n",
        "      <td> 0.012663</td>\n",
        "    </tr>\n",
        "    <tr>\n",
        "      <th>4</th>\n",
        "      <td> 10</td>\n",
        "      <td> 11</td>\n",
        "      <td> 0.340000</td>\n",
        "      <td> 5</td>\n",
        "      <td> 3.200000</td>\n",
        "      <td> 0.013621</td>\n",
        "    </tr>\n",
        "    <tr>\n",
        "      <th>5</th>\n",
        "      <td> 13</td>\n",
        "      <td> 14</td>\n",
        "      <td> 0.434911</td>\n",
        "      <td> 7</td>\n",
        "      <td> 4.000000</td>\n",
        "      <td> 0.018087</td>\n",
        "    </tr>\n",
        "    <tr>\n",
        "      <th>6</th>\n",
        "      <td> 17</td>\n",
        "      <td> 18</td>\n",
        "      <td> 0.496540</td>\n",
        "      <td> 7</td>\n",
        "      <td> 3.875000</td>\n",
        "      <td> 0.023678</td>\n",
        "    </tr>\n",
        "    <tr>\n",
        "      <th>7</th>\n",
        "      <td> 20</td>\n",
        "      <td> 23</td>\n",
        "      <td> 0.534014</td>\n",
        "      <td> 9</td>\n",
        "      <td> 3.888889</td>\n",
        "      <td> 0.045748</td>\n",
        "    </tr>\n",
        "  </tbody>\n",
        "</table>\n",
        "</div>"
       ],
       "metadata": {},
       "output_type": "pyout",
       "prompt_number": 63,
       "text": [
        "   nodegrowth  edgegrowth  modularity  maxclique  avgclique  run_time\n",
        "0           6           5    0.080000          3   2.500000  0.009944\n",
        "1           7           7    0.224490          3   3.000000  0.009955\n",
        "2           8           8    0.250000          4   3.250000  0.011048\n",
        "3           9           9    0.308642          4   3.000000  0.012663\n",
        "4          10          11    0.340000          5   3.200000  0.013621\n",
        "5          13          14    0.434911          7   4.000000  0.018087\n",
        "6          17          18    0.496540          7   3.875000  0.023678\n",
        "7          20          23    0.534014          9   3.888889  0.045748"
       ]
      }
     ],
     "prompt_number": 63
    },
    {
     "cell_type": "code",
     "collapsed": false,
     "input": [
      "import matplotlib.pylab as plt\n",
      "x1 = df['maxclique']\n",
      "# x2 = dfran['run_time']\n",
      "x3 = df['modularity']\n",
      "# x4 = df['modularity']\n",
      "y = df['nodegrowth']\n",
      "# y2 = df['nodegrowth']\n",
      "fig = plt.figure(figsize=(24,16))\n",
      "ax = fig.add_subplot(1,1,1) \n",
      "ax2 = ax.twinx()\n",
      "line1, = ax.plot( y, x1, label = 'Largest Clique')\n",
      "# line2, = ax.plot(y, x2, label = 'Computation Time')\n",
      "line3, = ax2.plot(y, x3, label = 'Modularity', color = 'red')\n",
      "# line4, = ax2.plot(y2, x4, label = 'Real Modularity', color ='purple')\n",
      "ax.set_xlabel('Nodes in Graph',fontsize=20)\n",
      "ax.set_ylabel('Clique Size',fontsize=20)\n",
      "ax2.set_ylabel('Modularity', fontsize=20)\n",
      "plt.suptitle('Random Graph Growth', fontsize=30)\n",
      "plt.legend((line1,line3),('Largest Clique', 'Modularity'), loc='upper center', frameon=False, fontsize=20)\n",
      "plt.show()"
     ],
     "language": "python",
     "metadata": {},
     "outputs": [],
     "prompt_number": 64
    },
    {
     "cell_type": "code",
     "collapsed": false,
     "input": [],
     "language": "python",
     "metadata": {},
     "outputs": []
    },
    {
     "cell_type": "code",
     "collapsed": false,
     "input": [
      "\n"
     ],
     "language": "python",
     "metadata": {},
     "outputs": []
    },
    {
     "cell_type": "code",
     "collapsed": false,
     "input": [],
     "language": "python",
     "metadata": {},
     "outputs": []
    },
    {
     "cell_type": "code",
     "collapsed": false,
     "input": [
      "# G=NXBB\n",
      "# # position is stored as node attribute data for random_geometric_graph\n",
      "# pos = nx.random_layout(G)\n",
      "# # find node near center (0.5,0.5)\n",
      "# dmin=1\n",
      "# ncenter=0\n",
      "# for n in pos:\n",
      "#     x,y=pos[n]\n",
      "#     d=(x-0.5)**2+(y-0.5)**2\n",
      "#     if d<dmin:\n",
      "#         ncenter=n\n",
      "#         dmin=d\n",
      "\n",
      "# # color by path length from node near center\n",
      "# p=nx.single_source_shortest_path_length(G,ncenter)\n",
      "\n",
      "# plt.figure(figsize=(15,15))\n",
      "# nx.draw_networkx_edges(G,pos,nodelist=[ncenter],alpha=0.08)\n",
      "# nx.draw_networkx_nodes(G,pos,nodelist=p.keys(),\n",
      "#                        node_size=100,\n",
      "#                        node_color=p.values(),\n",
      "#                        cmap=plt.cm.Reds_r)\n",
      "\n",
      "# plt.xlim(-0.05,1.05)\n",
      "# plt.ylim(-0.05,1.05)\n",
      "# plt.axis('off')\n",
      "# plt.show()"
     ],
     "language": "python",
     "metadata": {},
     "outputs": [],
     "prompt_number": 2
    },
    {
     "cell_type": "raw",
     "metadata": {},
     "source": [
      "to do! \n",
      "add random growth\n",
      "add parallel processing. Make growth into functions and then call the random and real grwoth and then add parallel processing. \n",
      "\n",
      "in the end I should probably add all the matlab stuff to a .py, with each as a definition, and do the try except thing. I can divide it up in the same way that it is in the zipfile. This way you can do from BNT import <function>\n",
      "\n",
      "I can also make a .py for growth stuff. "
     ]
    },
    {
     "cell_type": "code",
     "collapsed": false,
     "input": [
      "#this picks nodes at random, without constraint that new node is connected to a node already in graph\n",
      "# call this Growth_non_connected \n",
      "import random\n",
      "\n",
      "graph = nx.Graph()\n",
      "nodegrowth = 0\n",
      "edgegrowth = 0\n",
      "growthfactor = 300\n",
      "\n",
      "while nodegrowth < growthfactor:\n",
      "    newnode = random.choice(nodes.keys()) #randomly get a node to add from dictionary\n",
      "    newnode = nodes[newnode] #pull the graph query version of it\n",
      "    rels = list(graph_db.match(start_node=newnode)) #query graph for edges to and from that node\n",
      "    for edge in rels:\n",
      "        newnodename = edge.start_node.get_properties()\n",
      "        newnodename = newnodename.get('name')\n",
      "        newnodename = newnodename.encode()\n",
      "        endnodename = edge.end_node.get_properties()\n",
      "        endnodename = endnodename.get('name')\n",
      "        endnodename = endnodename.encode()\n",
      "        if newnodename not in graph: #check to see if new node is in graph\n",
      "            graph.add_node(newnodename) # add if not\n",
      "            nodegrowth = nodegrowth + 1\n",
      "        if endnodename in graph: #check to see if end node is in graph\n",
      "            graph.add_edge(newnodename, endnodename) #add it if it is\n",
      "            edgegrowth = edgegrowth + 1\n",
      "    \n",
      "    rels = list(graph_db.match(end_node=newnode)) #query graph for edges to and from that node\n",
      "    for edge in rels:\n",
      "        newnodename = edge.end_node.get_properties()\n",
      "        newnodename = newnodename.get('name')\n",
      "        newnodename = newnodename.encode()\n",
      "        startnodename = edge.start_node.get_properties()\n",
      "        startnodename = startnodename.get('name')\n",
      "        startnodename = startnodename.encode()\n",
      "        if newnodename not in graph: #check to see if new node is in graph\n",
      "            graph.add_node(newnodename) # add if not\n",
      "            nodegrowth = nodegrowth + 1\n",
      "        if startnodename in graph: #check to see if end node is in graph\n",
      "            graph.add_edge(startnodename, newnodename) #add it if it is\n",
      "            edgegrowth = edgegrowth + 1"
     ],
     "language": "python",
     "metadata": {},
     "outputs": []
    },
    {
     "cell_type": "code",
     "collapsed": false,
     "input": [
      "            if randomgrowth == True:\n",
      "                #np.random.shuffle(matrixgraph)\n",
      "                matrixgraph = nx.fast_gnp_random_graph(nodegrowth,.9)\n",
      "                matrixgraph = nx.adjacency_matrix(graph)\n",
      "                NXgraph = nx.Graph(matrixgraph) #make it back into a networkx graph\n",
      "                partition = community.best_partition(NXgraph) #find the partition with maximal modularity\n",
      "                modularity = community.modularity(partition,NXgraph) #calculate modularity with that partition\n",
      "            else:\n",
      "                NXgraph = nx.DiGraph(graph) #make it into a networkx graph\n",
      "                partition = community.best_partition(NXgraph) #find the partition with maximal modularity\n",
      "                modularity = community.modularity(partition,NXgraph) #calculate modularity with that partition  "
     ],
     "language": "python",
     "metadata": {},
     "outputs": []
    }
   ],
   "metadata": {}
  }
 ]
}