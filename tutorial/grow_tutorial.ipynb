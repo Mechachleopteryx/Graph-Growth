{
 "metadata": {
  "name": ""
 },
 "nbformat": 3,
 "nbformat_minor": 0,
 "worksheets": [
  {
   "cells": [
    {
     "cell_type": "heading",
     "level": 1,
     "metadata": {},
     "source": [
      "Graph Growth Tutorial, by Maxwell Bertolero"
     ]
    },
    {
     "cell_type": "markdown",
     "metadata": {},
     "source": [
      "This package allows for graph theory analyses of how a network grows.\n",
      "\n",
      "This module can analyze any network (in csv form), regardless of size, because it uses a graph theory database to store the network.\n",
      "\n",
      "It can then grow the network, starting with one node, ending with the entire networt or the number of nodes the user sets.\n",
      "\n",
      "It can measure various graph theory properties as the network grows, including modularity, number of communities, and clique sizes.\n",
      "\n",
      "It has the option of growing various random but controlled graphs for comparison.\n",
      "\n",
      "It also allows one the option of plotting the graph theory properties or drawing the network as the network grows.\n",
      "\n",
      "It also allows one to call any Bayes Net Toolbox (MATLAB) function without having to use MATLAB, and you get Python objects back."
     ]
    },
    {
     "cell_type": "heading",
     "level": 3,
     "metadata": {},
     "source": [
      "Installing"
     ]
    },
    {
     "cell_type": "markdown",
     "metadata": {},
     "source": [
      "This module is dependent on Octave, Oct2py, Neo4j, and py2neo.\n",
      "But don't worry! One line will install everything."
     ]
    },
    {
     "cell_type": "code",
     "collapsed": false,
     "input": [
      "python setup.py install"
     ],
     "language": "python",
     "metadata": {},
     "outputs": []
    },
    {
     "cell_type": "heading",
     "level": 3,
     "metadata": {},
     "source": [
      "Running"
     ]
    },
    {
     "cell_type": "markdown",
     "metadata": {},
     "source": [
      "Import the module"
     ]
    },
    {
     "cell_type": "code",
     "collapsed": false,
     "input": [
      "import grow\n",
      "%load_ext octavemagic"
     ],
     "language": "python",
     "metadata": {},
     "outputs": [],
     "prompt_number": 4
    },
    {
     "cell_type": "markdown",
     "metadata": {},
     "source": [
      "Here I choose to plot the data and grow a random graph that perserves the number of edges, nodes, and nodal degree that existes in the real graph. This is done by taking each and every node and reconecting its outgoing edges to other nodes at random. I also set the growth limit to 100 nodes.\n",
      "\n",
      "One line will load the network into the database and then grow it accordingly:"
     ]
    },
    {
     "cell_type": "code",
     "collapsed": false,
     "input": [
      "graph, randomgraph, data = grow.grow(csvfile = 'graph.csv', growthfactor = 100, plot = True, incomingrandom=True)"
     ],
     "language": "python",
     "metadata": {},
     "outputs": [],
     "prompt_number": 4
    },
    {
     "cell_type": "markdown",
     "metadata": {},
     "source": [
      "One could also simply load the network into the database for later use"
     ]
    },
    {
     "cell_type": "code",
     "collapsed": false,
     "input": [
      "grow.load_graph('graph.csv')"
     ],
     "language": "python",
     "metadata": {},
     "outputs": [],
     "prompt_number": "*"
    },
    {
     "cell_type": "markdown",
     "metadata": {},
     "source": [
      "Once the network is in the database, one can simply grow the network with one line.\n",
      "\n",
      "Let's draw the graph as it grows this time."
     ]
    },
    {
     "cell_type": "code",
     "collapsed": false,
     "input": [
      "%octave\n",
      "graph, randomgraph, data = grow.grow_graph(growthfactor = 100, incomingrandom=True)"
     ],
     "language": "python",
     "metadata": {},
     "outputs": [
      {
       "output_type": "stream",
       "stream": "stdout",
       "text": [
        "Measuring graph at: [100, 25, 26, 27, 29, 30, 31, 33, 35, 36, 38, 40, 42, 44, 46, 48, 50, 53, 55, 58, 61, 64, 67, 70, 73, 77, 81, 84, 89, 93, 97]\n",
        "Starting from INFERNO\n",
        "using initial node\n",
        "added BUILDING"
       ]
      },
      {
       "output_type": "stream",
       "stream": "stdout",
       "text": [
        "\n",
        "Graph has 1 nodes."
       ]
      },
      {
       "output_type": "stream",
       "stream": "stdout",
       "text": [
        "\n",
        "Graph has 0 edges.\n",
        "Using BUILDING to find new node\n",
        "added ARCHITECTURE"
       ]
      },
      {
       "output_type": "stream",
       "stream": "stdout",
       "text": [
        "\n",
        "connected BUILDING to ARCHITECTURE"
       ]
      },
      {
       "output_type": "stream",
       "stream": "stdout",
       "text": [
        "\n",
        "Graph has 2 nodes.\n",
        "Graph has 1 edges.\n",
        "Using BUILDING to find new node\n",
        "added APARTMENT"
       ]
      },
      {
       "output_type": "stream",
       "stream": "stdout",
       "text": [
        "\n",
        "connected APARTMENT to BUILDING"
       ]
      },
      {
       "output_type": "stream",
       "stream": "stdout",
       "text": [
        "\n",
        "connected BUILDING to APARTMENT"
       ]
      },
      {
       "output_type": "stream",
       "stream": "stdout",
       "text": [
        "\n",
        "Graph has 3 nodes.\n",
        "Graph has 3 edges.\n",
        "Using BUILDING to find new node\n",
        "added BUILD"
       ]
      },
      {
       "output_type": "stream",
       "stream": "stdout",
       "text": [
        "\n",
        "connected BUILD to ARCHITECTURE"
       ]
      },
      {
       "output_type": "stream",
       "stream": "stdout",
       "text": [
        "\n",
        "connected BUILDING to BUILD"
       ]
      },
      {
       "output_type": "stream",
       "stream": "stdout",
       "text": [
        "\n",
        "Graph has 4 nodes.\n",
        "Graph has 5 edges.\n",
        "Using APARTMENT to find new node\n",
        "added VILLAGE"
       ]
      },
      {
       "output_type": "stream",
       "stream": "stdout",
       "text": [
        "\n",
        "connected APARTMENT to VILLAGE"
       ]
      },
      {
       "output_type": "stream",
       "stream": "stdout",
       "text": [
        "\n",
        "Graph has 5 nodes.\n",
        "Graph has 6 edges.\n",
        "Using APARTMENT to find new node\n",
        "added ROOM"
       ]
      },
      {
       "output_type": "stream",
       "stream": "stdout",
       "text": [
        "\n",
        "connected ROOM to BUILDING"
       ]
      },
      {
       "output_type": "stream",
       "stream": "stdout",
       "text": [
        "\n",
        "connected ROOM to APARTMENT"
       ]
      },
      {
       "output_type": "stream",
       "stream": "stdout",
       "text": [
        "\n",
        "connected BUILDING to ROOM"
       ]
      },
      {
       "output_type": "stream",
       "stream": "stdout",
       "text": [
        "\n",
        "Graph has 6 nodes.\n",
        "Graph has 9 edges.\n",
        "Using VILLAGE to find new node\n",
        "added SMALL"
       ]
      },
      {
       "output_type": "stream",
       "stream": "stdout",
       "text": [
        "\n",
        "connected SMALL to VILLAGE\n",
        "connected SMALL to ROOM"
       ]
      },
      {
       "output_type": "stream",
       "stream": "stdout",
       "text": [
        "\n",
        "connected SMALL to APARTMENT"
       ]
      },
      {
       "output_type": "stream",
       "stream": "stdout",
       "text": [
        "\n",
        "Graph has 7 nodes."
       ]
      },
      {
       "output_type": "stream",
       "stream": "stdout",
       "text": [
        "\n",
        "Graph has 12 edges.\n",
        "Using APARTMENT to find new node\n",
        "added SUITE"
       ]
      },
      {
       "output_type": "stream",
       "stream": "stdout",
       "text": [
        "\n",
        "connected ROOM to SUITE"
       ]
      },
      {
       "output_type": "stream",
       "stream": "stdout",
       "text": [
        "\n",
        "connected BUILDING to SUITE\n",
        "connected APARTMENT to SUITE"
       ]
      },
      {
       "output_type": "stream",
       "stream": "stdout",
       "text": [
        "\n",
        "Graph has 8 nodes.\n",
        "Graph has 15 edges.\n",
        "Using APARTMENT to find new node\n",
        "added EVICT"
       ]
      },
      {
       "output_type": "stream",
       "stream": "stdout",
       "text": [
        "\n",
        "connected APARTMENT to EVICT"
       ]
      },
      {
       "output_type": "stream",
       "stream": "stdout",
       "text": [
        "\n",
        "Graph has 9 nodes.\n",
        "Graph has 16 edges.\n",
        "Using SUITE to find new node\n",
        "added TAX\n",
        "connected TAX to SUITE"
       ]
      },
      {
       "output_type": "stream",
       "stream": "stdout",
       "text": [
        "\n",
        "Graph has 10 nodes."
       ]
      },
      {
       "output_type": "stream",
       "stream": "stdout",
       "text": [
        "\n",
        "Graph has 17 edges.\n",
        "Using APARTMENT to find new node\n",
        "added DOOR"
       ]
      },
      {
       "output_type": "stream",
       "stream": "stdout",
       "text": [
        "\n",
        "connected DOOR to ROOM"
       ]
      },
      {
       "output_type": "stream",
       "stream": "stdout",
       "text": [
        "\n",
        "connected DOOR to APARTMENT"
       ]
      },
      {
       "output_type": "stream",
       "stream": "stdout",
       "text": [
        "\n",
        "connected ROOM to DOOR"
       ]
      },
      {
       "output_type": "stream",
       "stream": "stdout",
       "text": [
        "\n",
        "Graph has 11 nodes."
       ]
      },
      {
       "output_type": "stream",
       "stream": "stdout",
       "text": [
        "\n",
        "Graph has 20 edges.\n",
        "Using ROOM to find new node\n",
        "added DOWNSTAIRS"
       ]
      },
      {
       "output_type": "stream",
       "stream": "stdout",
       "text": [
        "\n",
        "connected ROOM to DOWNSTAIRS"
       ]
      },
      {
       "output_type": "stream",
       "stream": "stdout",
       "text": [
        "\n",
        "Graph has 12 nodes."
       ]
      },
      {
       "output_type": "stream",
       "stream": "stdout",
       "text": [
        "\n",
        "Graph has 21 edges.\n",
        "Using SMALL to find new node\n",
        "added MINORITY"
       ]
      },
      {
       "output_type": "stream",
       "stream": "stdout",
       "text": [
        "\n",
        "connected SMALL to MINORITY\n",
        "Graph has 13 nodes."
       ]
      },
      {
       "output_type": "stream",
       "stream": "stdout",
       "text": [
        "\n",
        "Graph has 22 edges.\n",
        "Using VILLAGE to find new node\n",
        "added INDIAN"
       ]
      },
      {
       "output_type": "stream",
       "stream": "stdout",
       "text": [
        "\n",
        "connected INDIAN to VILLAGE\n",
        "Graph has 14 nodes."
       ]
      },
      {
       "output_type": "stream",
       "stream": "stdout",
       "text": [
        "\n",
        "Graph has 23 edges.\n",
        "Using APARTMENT to find new node\n",
        "added DECORATE"
       ]
      },
      {
       "output_type": "stream",
       "stream": "stdout",
       "text": [
        "\n",
        "connected ROOM to DECORATE"
       ]
      },
      {
       "output_type": "stream",
       "stream": "stdout",
       "text": [
        "\n",
        "connected APARTMENT to DECORATE"
       ]
      },
      {
       "output_type": "stream",
       "stream": "stdout",
       "text": [
        "\n",
        "Graph has 15 nodes.\n",
        "Graph has 25 edges.\n",
        "Using DOOR to find new node\n",
        "added HALL"
       ]
      },
      {
       "output_type": "stream",
       "stream": "stdout",
       "text": [
        "\n",
        "connected HALL to DOOR"
       ]
      },
      {
       "output_type": "stream",
       "stream": "stdout",
       "text": [
        "\n",
        "connected ROOM to HALL"
       ]
      },
      {
       "output_type": "stream",
       "stream": "stdout",
       "text": [
        "\n",
        "connected DOOR to HALL"
       ]
      },
      {
       "output_type": "stream",
       "stream": "stdout",
       "text": [
        "\n",
        "Graph has 16 nodes.\n",
        "Graph has 28 edges.\n",
        "Using TAX to find new node\n",
        "added FORM"
       ]
      },
      {
       "output_type": "stream",
       "stream": "stdout",
       "text": [
        "\n",
        "connected TAX to FORM"
       ]
      },
      {
       "output_type": "stream",
       "stream": "stdout",
       "text": [
        "\n",
        "Graph has 17 nodes."
       ]
      },
      {
       "output_type": "stream",
       "stream": "stdout",
       "text": [
        "\n",
        "Graph has 29 edges.\n",
        "Using BUILDING to find new node\n",
        "added BLOCKS"
       ]
      },
      {
       "output_type": "stream",
       "stream": "stdout",
       "text": [
        "\n",
        "connected BLOCKS to BUILDING\n",
        "connected BLOCKS to BUILD\n",
        "connected BUILDING to BLOCKS"
       ]
      },
      {
       "output_type": "stream",
       "stream": "stdout",
       "text": [
        "\n",
        "connected BUILD to BLOCKS\n",
        "Graph has 18 nodes.\n",
        "Graph has 33 edges.\n",
        "Using DOOR to find new node\n",
        "added KITCHEN"
       ]
      },
      {
       "output_type": "stream",
       "stream": "stdout",
       "text": [
        "\n",
        "connected ROOM to KITCHEN"
       ]
      },
      {
       "output_type": "stream",
       "stream": "stdout",
       "text": [
        "\n",
        "connected DOOR to KITCHEN"
       ]
      },
      {
       "output_type": "stream",
       "stream": "stdout",
       "text": [
        "\n",
        "Graph has 19 nodes."
       ]
      },
      {
       "output_type": "stream",
       "stream": "stdout",
       "text": [
        "\n",
        "Graph has 35 edges.\n",
        "Using ROOM to find new node\n",
        "added SHELF"
       ]
      },
      {
       "output_type": "stream",
       "stream": "stdout",
       "text": [
        "\n",
        "connected ROOM to SHELF"
       ]
      },
      {
       "output_type": "stream",
       "stream": "stdout",
       "text": [
        "\n",
        "Graph has 20 nodes."
       ]
      },
      {
       "output_type": "stream",
       "stream": "stdout",
       "text": [
        "\n",
        "Graph has 36 edges.\n",
        "Using BUILDING to find new node\n",
        "added INFERNO"
       ]
      },
      {
       "output_type": "stream",
       "stream": "stdout",
       "text": [
        "\n",
        "connected BUILDING to INFERNO"
       ]
      },
      {
       "output_type": "stream",
       "stream": "stdout",
       "text": [
        "\n",
        "Graph has 21 nodes.\n",
        "Graph has 37 edges.\n",
        "Using KITCHEN to find new node\n",
        "added SINK"
       ]
      },
      {
       "output_type": "stream",
       "stream": "stdout",
       "text": [
        "\n",
        "connected SINK to KITCHEN"
       ]
      },
      {
       "output_type": "stream",
       "stream": "stdout",
       "text": [
        "\n",
        "connected KITCHEN to SINK"
       ]
      },
      {
       "output_type": "stream",
       "stream": "stdout",
       "text": [
        "\n",
        "Graph has 22 nodes."
       ]
      },
      {
       "output_type": "stream",
       "stream": "stdout",
       "text": [
        "\n",
        "Graph has 39 edges.\n",
        "Using BLOCKS to find new node\n",
        "added NEIGHBORHOOD\n",
        "connected NEIGHBORHOOD to BLOCKS"
       ]
      },
      {
       "output_type": "stream",
       "stream": "stdout",
       "text": [
        "\n",
        "Graph has 23 nodes."
       ]
      },
      {
       "output_type": "stream",
       "stream": "stdout",
       "text": [
        "\n",
        "Graph has 40 edges.\n",
        "Using ARCHITECTURE to find new node\n",
        "added HOUSE"
       ]
      },
      {
       "output_type": "stream",
       "stream": "stdout",
       "text": [
        "\n",
        "connected HOUSE to VILLAGE\n",
        "connected HOUSE to ROOM"
       ]
      },
      {
       "output_type": "stream",
       "stream": "stdout",
       "text": [
        "\n",
        "connected HOUSE to NEIGHBORHOOD"
       ]
      },
      {
       "output_type": "stream",
       "stream": "stdout",
       "text": [
        "\n",
        "connected HOUSE to KITCHEN"
       ]
      },
      {
       "output_type": "stream",
       "stream": "stdout",
       "text": [
        "\n",
        "connected HOUSE to EVICT"
       ]
      },
      {
       "output_type": "stream",
       "stream": "stdout",
       "text": [
        "\n",
        "connected HOUSE to DOOR"
       ]
      },
      {
       "output_type": "stream",
       "stream": "stdout",
       "text": [
        "\n",
        "connected HOUSE to DECORATE\n",
        "connected HOUSE to BUILDING"
       ]
      },
      {
       "output_type": "stream",
       "stream": "stdout",
       "text": [
        "\n",
        "connected HOUSE to BUILD\n",
        "connected HOUSE to BLOCKS"
       ]
      },
      {
       "output_type": "stream",
       "stream": "stdout",
       "text": [
        "\n",
        "connected HOUSE to ARCHITECTURE"
       ]
      },
      {
       "output_type": "stream",
       "stream": "stdout",
       "text": [
        "\n",
        "connected HOUSE to APARTMENT\n",
        "connected ROOM to HOUSE"
       ]
      },
      {
       "output_type": "stream",
       "stream": "stdout",
       "text": [
        "\n",
        "connected BUILDING to HOUSE"
       ]
      },
      {
       "output_type": "stream",
       "stream": "stdout",
       "text": [
        "\n",
        "connected APARTMENT to HOUSE\n",
        "Graph has 24 nodes.\n",
        "Graph has 55 edges.\n",
        "Using HOUSE to find new node\n",
        "added BUILDER"
       ]
      },
      {
       "output_type": "stream",
       "stream": "stdout",
       "text": [
        "\n",
        "connected HOUSE to BUILDER"
       ]
      },
      {
       "output_type": "stream",
       "stream": "stdout",
       "text": [
        "\n",
        "connected BUILDING to BUILDER"
       ]
      },
      {
       "output_type": "stream",
       "stream": "stdout",
       "text": [
        "\n",
        "connected BLOCKS to BUILDER\n",
        "Graph has 25 nodes.\n",
        "Graph has 58 edges.\n",
        "Graphs have unequal number of edges!\n",
        "Octave Error, trying again!"
       ]
      },
      {
       "ename": "UnboundLocalError",
       "evalue": "local variable 'cliques' referenced before assignment",
       "output_type": "pyerr",
       "traceback": [
        "\u001b[0;31m---------------------------------------------------------------------------\u001b[0m\n\u001b[0;31mUnboundLocalError\u001b[0m                         Traceback (most recent call last)",
        "\u001b[0;32m<ipython-input-5-a66bcf6c27e4>\u001b[0m in \u001b[0;36m<module>\u001b[0;34m()\u001b[0m\n\u001b[1;32m      1\u001b[0m \u001b[0mget_ipython\u001b[0m\u001b[0;34m(\u001b[0m\u001b[0;34m)\u001b[0m\u001b[0;34m.\u001b[0m\u001b[0mmagic\u001b[0m\u001b[0;34m(\u001b[0m\u001b[0;34mu'octave'\u001b[0m\u001b[0;34m)\u001b[0m\u001b[0;34m\u001b[0m\u001b[0m\n\u001b[0;32m----> 2\u001b[0;31m \u001b[0mgraph\u001b[0m\u001b[0;34m,\u001b[0m \u001b[0mrandomgraph\u001b[0m\u001b[0;34m,\u001b[0m \u001b[0mdata\u001b[0m \u001b[0;34m=\u001b[0m \u001b[0mgrow\u001b[0m\u001b[0;34m.\u001b[0m\u001b[0mgrow_graph\u001b[0m\u001b[0;34m(\u001b[0m\u001b[0mgrowthfactor\u001b[0m \u001b[0;34m=\u001b[0m \u001b[0;36m100\u001b[0m\u001b[0;34m,\u001b[0m \u001b[0mincomingrandom\u001b[0m\u001b[0;34m=\u001b[0m\u001b[0mTrue\u001b[0m\u001b[0;34m)\u001b[0m\u001b[0;34m\u001b[0m\u001b[0m\n\u001b[0m",
        "\u001b[0;32m//anaconda/lib/python2.7/site-packages/grow.pyc\u001b[0m in \u001b[0;36mgrow_graph\u001b[0;34m(supermodular, reverserandom, outgoingrandom, incomingrandom, random_modular, totalrandom, force_connected, sparse, plot, directed, wholegrowth, growthfactor, num_measurements, verbose, plotx, ploty, ploty2, drawgraph, draw, drawspectral, getgraph)\u001b[0m\n\u001b[1;32m    584\u001b[0m                                 \u001b[0;31m#loop through cliques and get the size of them\u001b[0m\u001b[0;34m\u001b[0m\u001b[0;34m\u001b[0m\u001b[0m\n\u001b[1;32m    585\u001b[0m                                 \u001b[0mcliquesizes\u001b[0m \u001b[0;34m=\u001b[0m \u001b[0;34m[\u001b[0m\u001b[0;34m]\u001b[0m \u001b[0;31m#empty array to keep clique sizes in\u001b[0m\u001b[0;34m\u001b[0m\u001b[0m\n\u001b[0;32m--> 586\u001b[0;31m                                 \u001b[0;32mfor\u001b[0m \u001b[0mx\u001b[0m \u001b[0;32min\u001b[0m \u001b[0mcliques\u001b[0m\u001b[0;34m:\u001b[0m\u001b[0;34m\u001b[0m\u001b[0m\n\u001b[0m\u001b[1;32m    587\u001b[0m                                     \u001b[0msize\u001b[0m \u001b[0;34m=\u001b[0m \u001b[0mlen\u001b[0m\u001b[0;34m(\u001b[0m\u001b[0mx\u001b[0m\u001b[0;34m)\u001b[0m\u001b[0;34m\u001b[0m\u001b[0m\n\u001b[1;32m    588\u001b[0m                                     \u001b[0mcliquesizes\u001b[0m\u001b[0;34m.\u001b[0m\u001b[0mappend\u001b[0m\u001b[0;34m(\u001b[0m\u001b[0msize\u001b[0m\u001b[0;34m)\u001b[0m\u001b[0;34m\u001b[0m\u001b[0m\n",
        "\u001b[0;31mUnboundLocalError\u001b[0m: local variable 'cliques' referenced before assignment"
       ]
      },
      {
       "output_type": "stream",
       "stream": "stdout",
       "text": [
        "\n",
        "Octave Error, trying again!\n",
        "Octave Error, trying again!\n",
        "Octave Error, trying again!\n",
        "Octave Error, trying again!\n"
       ]
      }
     ],
     "prompt_number": 5
    },
    {
     "cell_type": "code",
     "collapsed": false,
     "input": [],
     "language": "python",
     "metadata": {},
     "outputs": [],
     "prompt_number": 6
    },
    {
     "cell_type": "heading",
     "level": 3,
     "metadata": {},
     "source": [
      "Parameters"
     ]
    },
    {
     "cell_type": "markdown",
     "metadata": {},
     "source": [
      "growthfactor: int, How many nodes do you want to grow your graph to? Default: 100\n",
      "\n",
      "wholegrowth: Boolean, This will grow the entire graph. Default: False\n",
      "\n",
      "verbose: Boolean, Do you want to see what's going on while it grows? Default: True\n",
      "\n",
      "sparse: Boolean, Do you want to measure sparely? This can really speed things up for a larger graph. It measures on a log scale, e.g., 1, 3, 9, 27...\n",
      "Default: True\n",
      "\n",
      "num_measurements: int, How many times do you want to measure the graph? Default: 10\n",
      "\n",
      "force_connected: Boolean, Do you want the graph to remain connected as it grows? Default: True\n",
      "\n",
      "directed: Boolean, Is your graph directed? Right now, this only supports directed graphs. Default: True\n",
      "\n",
      "draw: Boolean, Do you want to see the graph as it grows? Default: False\n",
      "You cannot plot and draw at the same time. It will default to plot if you have both True.\n",
      "\n",
      "drawgraph: str, What graph do you want to draw? Options: 'triangulated', 'moralized', 'directed'\n",
      "\n",
      "drawspectral: Boolean, This will draw a spectral layout of the graph instead of a random one. Default: False\n",
      "\n",
      "plot: Boolean, Do you want to plot the growth measurements as the graph grows? Default: False\n",
      "\n",
      "plotx: str, What x axis do you want to plot? Options: 'nodegrowth', 'edgegrowth', 'maxclique', 'modval', 'run_time', 'avgclique', Default: 'nodegrowth'\n",
      "\n",
      "ploty: str, What y axis do you want to plot? Options: 'nodegrowth', 'edgegrowth', 'maxclique', 'modval', 'run_time', 'avgclique', Default: 'maxclique'\n",
      "\n",
      "ploty2: str, What 2nd y axis do you want to plot? Options: 'nodegrowth', 'edgegrowth', 'maxclique', 'modularity', 'run_time', 'avgclique', Default: 'modval'\n",
      "\n",
      "reverserandom: Boolean, This will reverse the direction of edges and grow that as a \"random\" graph alongside the real graph.\n",
      "\n",
      "outgoingrandom: Boolean, This will shuffle all the outgoing edges, keeping the out-degree the same, and grow that as a \"random\" graph alongside the real graph.\n",
      "\n",
      "incomingrandom = Boolean, This will shuffle all the incoming edges, keeping the in-degree the same, and grow that as a \"random\" graph alongside the real graph.\n",
      "\n",
      "totalrandom = Boolean, This uses a graph picked randomly out of the set of all graphs with the same number of nodes and edges as the real graph, and then grow that as a \"random\" graph alongside the real graph. This preserves overall degree, and number of nodes/edges\n",
      "\n",
      "random_modular = Boolean, This will make a very modular version of your graph. It takes edges that exist between the communities and adds them within communities, preserving edge and node number. This is interesting for Bayesian Analysis and Fodorian ideas about modularity and inference."
     ]
    },
    {
     "cell_type": "heading",
     "level": 3,
     "metadata": {},
     "source": [
      "Returns:"
     ]
    },
    {
     "cell_type": "markdown",
     "metadata": {},
     "source": [
      "The network as a NetworkX graph.\n",
      "\n",
      "The random graph, if one is grown.\n",
      "\n",
      "The partition (i.e., communities) of both random and real graphs, as a dictionary of nodes and community number\n",
      "\n",
      "Pandas Dataframe of:\n",
      "\n",
      "* node growth\n",
      "* edge growth\n",
      "* modularity values (real and random)\n",
      "* number of partitions (real and random)\n",
      "* clique size (real and random)\n",
      "* average clique size (real and random)\n",
      "* run times for each measurement of the graphs"
     ]
    },
    {
     "cell_type": "code",
     "collapsed": false,
     "input": [],
     "language": "python",
     "metadata": {},
     "outputs": []
    }
   ],
   "metadata": {}
  }
 ]
}