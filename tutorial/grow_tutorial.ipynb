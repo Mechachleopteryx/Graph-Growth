{
 "metadata": {
  "name": ""
 },
 "nbformat": 3,
 "nbformat_minor": 0,
 "worksheets": [
  {
   "cells": [
    {
     "cell_type": "heading",
     "level": 1,
     "metadata": {},
     "source": [
      "Grow Tutorial"
     ]
    },
    {
     "cell_type": "heading",
     "level": 3,
     "metadata": {},
     "source": [
      "By Maxwell Bertolero, for the Grow_Graph package"
     ]
    },
    {
     "cell_type": "heading",
     "level": 4,
     "metadata": {},
     "source": [
      "You can either load in your graph, and then grow it..."
     ]
    },
    {
     "cell_type": "code",
     "collapsed": false,
     "input": [
      "import grow\n",
      "graphfile = 'edgeFileWords.csv' #put your graph file here. It is in this directory if you want to try runnning it!\n",
      "grow.load_graph(graphfile)\n",
      "graph, random_graph, data = grow.grow_graph(growthfactor = 1000, plot = True, incomingrandom=True)"
     ],
     "language": "python",
     "metadata": {},
     "outputs": [],
     "prompt_number": 5
    },
    {
     "cell_type": "heading",
     "level": 4,
     "metadata": {},
     "source": [
      "Or you can do it all in one fellow swoop"
     ]
    },
    {
     "cell_type": "code",
     "collapsed": false,
     "input": [
      "import grow\n",
      "graphfile = 'edgeFileWords.csv'\n",
      "graph, randomgraph, data = grow.grow(csvfile = graphfile, growthfactor = 1000, plot = True, incomingrandom=True)"
     ],
     "language": "python",
     "metadata": {},
     "outputs": []
    }
   ],
   "metadata": {}
  }
 ]
}