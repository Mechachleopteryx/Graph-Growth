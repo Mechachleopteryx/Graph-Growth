{
 "metadata": {
  "name": ""
 },
 "nbformat": 3,
 "nbformat_minor": 0,
 "worksheets": [
  {
   "cells": [
    {
     "cell_type": "heading",
     "level": 1,
     "metadata": {},
     "source": [
      "Graph Growth Tutorial, by Maxwell Bertolero"
     ]
    },
    {
     "cell_type": "markdown",
     "metadata": {},
     "source": [
      "This package allows for graph theory analyses of how a network grows.\n",
      "\n",
      "This module can analyze any network (in csv form), regardless of size, because it uses a graph theory database to store the network.\n",
      "\n",
      "It can then grow the network, starting with one node, ending with the entire networt or the number of nodes the user sets.\n",
      "\n",
      "It can measure various graph theory properties as the network grows, including modularity, number of communities, and clique sizes.\n",
      "\n",
      "It has the option of growing various random but controlled graphs for comparison.\n",
      "\n",
      "It also allows one the option of plotting the graph theory properties or drawing the network as the network grows.\n",
      "\n",
      "It also allows one to call any Bayes Net Toolbox (MATLAB) function without having to use MATLAB, and you get Python objects back."
     ]
    },
    {
     "cell_type": "heading",
     "level": 3,
     "metadata": {},
     "source": [
      "Installing"
     ]
    },
    {
     "cell_type": "markdown",
     "metadata": {},
     "source": [
      "This module is dependent on Octave, Oct2py, Neo4j, and py2neo.\n",
      "But don't worry! One line will install everything."
     ]
    },
    {
     "cell_type": "code",
     "collapsed": false,
     "input": [
      "python setup.py install"
     ],
     "language": "python",
     "metadata": {},
     "outputs": []
    },
    {
     "cell_type": "heading",
     "level": 3,
     "metadata": {},
     "source": [
      "Running"
     ]
    },
    {
     "cell_type": "markdown",
     "metadata": {},
     "source": [
      "Import the module"
     ]
    },
    {
     "cell_type": "code",
     "collapsed": false,
     "input": [
      "import grow"
     ],
     "language": "python",
     "metadata": {},
     "outputs": [],
     "prompt_number": 2
    },
    {
     "cell_type": "markdown",
     "metadata": {},
     "source": [
      "Here I choose to plot the data and grow a random graph that perserves the number of edges, nodes, and nodal degree that existes in the real graph. This is done by taking each and every node and reconecting its outgoing edges to other nodes at random. I also set the growth limit to 100 nodes.\n",
      "\n",
      "One line will load the network into the database and then grow it accordingly:"
     ]
    },
    {
     "cell_type": "code",
     "collapsed": false,
     "input": [
      "graph, randomgraph, data = grow.grow(csvfile = 'graph.csv', growthfactor = 100, plot = True, incomingrandom=True)"
     ],
     "language": "python",
     "metadata": {},
     "outputs": [],
     "prompt_number": 4
    },
    {
     "cell_type": "markdown",
     "metadata": {},
     "source": [
      "One could also simply load the network into the database for later use"
     ]
    },
    {
     "cell_type": "code",
     "collapsed": false,
     "input": [
      "grow.load_graph('graph.csv')"
     ],
     "language": "python",
     "metadata": {},
     "outputs": [],
     "prompt_number": "*"
    },
    {
     "cell_type": "markdown",
     "metadata": {},
     "source": [
      "Once the network is in the database, one can simply grow the network with one line.\n",
      "\n",
      "Let's draw the graph as it grows this time."
     ]
    },
    {
     "cell_type": "code",
     "collapsed": false,
     "input": [
      "graph, randomgraph, data = grow.grow_graph(growthfactor = 100, incomingrandom=True)"
     ],
     "language": "python",
     "metadata": {},
     "outputs": [],
     "prompt_number": 3
    },
    {
     "cell_type": "code",
     "collapsed": false,
     "input": [],
     "language": "python",
     "metadata": {},
     "outputs": [],
     "prompt_number": 6
    },
    {
     "cell_type": "heading",
     "level": 3,
     "metadata": {},
     "source": [
      "Parameters"
     ]
    },
    {
     "cell_type": "markdown",
     "metadata": {},
     "source": [
      "growthfactor: int, How many nodes do you want to grow your graph to? Default: 100\n",
      "\n",
      "wholegrowth: Boolean, This will grow the entire graph. Default: False\n",
      "\n",
      "verbose: Boolean, Do you want to see what's going on while it grows? Default: True\n",
      "\n",
      "sparse: Boolean, Do you want to measure sparely? This can really speed things up for a larger graph. It measures on a log scale, e.g., 1, 3, 9, 27...\n",
      "Default: True\n",
      "\n",
      "num_measurements: int, How many times do you want to measure the graph? Default: 10\n",
      "\n",
      "force_connected: Boolean, Do you want the graph to remain connected as it grows? Default: True\n",
      "\n",
      "directed: Boolean, Is your graph directed? Right now, this only supports directed graphs. Default: True\n",
      "\n",
      "draw: Boolean, Do you want to see the graph as it grows? Default: False\n",
      "You cannot plot and draw at the same time. It will default to plot if you have both True.\n",
      "\n",
      "drawgraph: str, What graph do you want to draw? Options: 'triangulated', 'moralized', 'directed'\n",
      "\n",
      "drawspectral: Boolean, This will draw a spectral layout of the graph instead of a random one. Default: False\n",
      "\n",
      "plot: Boolean, Do you want to plot the growth measurements as the graph grows? Default: False\n",
      "\n",
      "plotx: str, What x axis do you want to plot? Options: 'nodegrowth', 'edgegrowth', 'maxclique', 'modval', 'run_time', 'avgclique', Default: 'nodegrowth'\n",
      "\n",
      "ploty: str, What y axis do you want to plot? Options: 'nodegrowth', 'edgegrowth', 'maxclique', 'modval', 'run_time', 'avgclique', Default: 'maxclique'\n",
      "\n",
      "ploty2: str, What 2nd y axis do you want to plot? Options: 'nodegrowth', 'edgegrowth', 'maxclique', 'modularity', 'run_time', 'avgclique', Default: 'modval'\n",
      "\n",
      "reverserandom: Boolean, This will reverse the direction of edges and grow that as a \"random\" graph alongside the real graph.\n",
      "\n",
      "outgoingrandom: Boolean, This will shuffle all the outgoing edges, keeping the out-degree the same, and grow that as a \"random\" graph alongside the real graph.\n",
      "\n",
      "incomingrandom = Boolean, This will shuffle all the incoming edges, keeping the in-degree the same, and grow that as a \"random\" graph alongside the real graph.\n",
      "\n",
      "totalrandom = Boolean, This uses a graph picked randomly out of the set of all graphs with the same number of nodes and edges as the real graph, and then grow that as a \"random\" graph alongside the real graph. This preserves overall degree, and number of nodes/edges\n",
      "\n",
      "random_modular = Boolean, This will make a very modular version of your graph. It takes edges that exist between the communities and adds them within communities, preserving edge and node number. This is interesting for Bayesian Analysis and Fodorian ideas about modularity and inference."
     ]
    },
    {
     "cell_type": "heading",
     "level": 3,
     "metadata": {},
     "source": [
      "Returns:"
     ]
    },
    {
     "cell_type": "markdown",
     "metadata": {},
     "source": [
      "The network as a NetworkX graph.\n",
      "\n",
      "The random graph, if one is grown.\n",
      "\n",
      "The partition (i.e., communities) of both random and real graphs, as a dictionary of nodes and community number\n",
      "\n",
      "Pandas Dataframe of:\n",
      "\n",
      "* node growth\n",
      "* edge growth\n",
      "* modularity values (real and random)\n",
      "* number of partitions (real and random)\n",
      "* clique size (real and random)\n",
      "* average clique size (real and random)\n",
      "* run times for each measurement of the graphs"
     ]
    },
    {
     "cell_type": "code",
     "collapsed": false,
     "input": [],
     "language": "python",
     "metadata": {},
     "outputs": []
    }
   ],
   "metadata": {}
  }
 ]
}